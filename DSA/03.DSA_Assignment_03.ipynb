{
 "cells": [
  {
   "attachments": {},
   "cell_type": "markdown",
   "id": "37364f6f-d01d-407e-9753-9efd7baefad2",
   "metadata": {},
   "source": [
    "# Assignment No.3 - Arrays "
   ]
  },
  {
   "attachments": {},
   "cell_type": "markdown",
   "id": "2fa437f6-2769-4a7e-9be8-d6d8572c5d77",
   "metadata": {},
   "source": [
    "#### Question 1\n",
    "#### Given an integer array nums of length n and an integer target, find three integers\n",
    "#### in nums such that the sum is closest to the target.\n",
    "#### Return the sum of the three integers.\n",
    "\n",
    "#### You may assume that each input would have exactly one solution.\n",
    "\n",
    "#### Example 1:\n",
    "#### Input: nums = [-1,2,1,-4], target = 1\n",
    "#### Output: 2\n",
    "\n",
    "#### Explanation: The sum that is closest to the target is 2. (-1 + 2 + 1 = 2)."
   ]
  },
  {
   "cell_type": "code",
   "execution_count": 1,
   "id": "dbc20ee1-e0c3-47b7-a2be-2b11965b0ed4",
   "metadata": {},
   "outputs": [],
   "source": [
    "def threeSumClosest(nums, target):\n",
    "    nums.sort()\n",
    "    n = len(nums)\n",
    "    closestSum = float('inf')\n",
    "\n",
    "    for i in range(n - 2):\n",
    "        left = i + 1\n",
    "        right = n - 1\n",
    "\n",
    "        while left < right:\n",
    "            currentSum = nums[i] + nums[left] + nums[right]\n",
    "\n",
    "            if abs(currentSum - target) < abs(closestSum - target):\n",
    "                closestSum = currentSum\n",
    "\n",
    "            if currentSum > target:\n",
    "                right -= 1\n",
    "            elif currentSum < target:\n",
    "                left += 1\n",
    "            else:\n",
    "                return target\n",
    "\n",
    "    return closestSum\n"
   ]
  },
  {
   "cell_type": "code",
   "execution_count": 2,
   "id": "7ecfe9a5-3ca0-414c-b11a-bac974c42bb9",
   "metadata": {},
   "outputs": [
    {
     "name": "stdout",
     "output_type": "stream",
     "text": [
      "Output : 2\n"
     ]
    }
   ],
   "source": [
    "nums = [-1, 2, 1, -4]\n",
    "target = 1\n",
    "result = threeSumClosest(nums, target)\n",
    "print(f\"Output : {result}\")"
   ]
  },
  {
   "attachments": {},
   "cell_type": "markdown",
   "id": "f4814aec-9324-46a0-af1d-79eedcaaaa68",
   "metadata": {},
   "source": [
    "#### Question 2\n",
    "#### Given an array nums of n integers, return an array of all the unique quadruplets\n",
    "#### [nums[a], nums[b], nums[c], nums[d]] such that:\n",
    "           ● 0 <= a, b, c, d < n\n",
    "           ● a, b, c, and d are distinct.\n",
    "           ● nums[a] + nums[b] + nums[c] + nums[d] == target\n",
    "\n",
    "#### You may return the answer in any order.\n",
    "\n",
    "#### Example 1:\n",
    "#### Input: nums = [1,0,-1,0,-2,2], target = 0\n",
    "#### Output: [[-2,-1,1,2],[-2,0,0,2],[-1,0,0,1]]"
   ]
  },
  {
   "cell_type": "code",
   "execution_count": 3,
   "id": "0741dba4-64a5-4501-8b0c-ab6a01111744",
   "metadata": {},
   "outputs": [],
   "source": [
    "def fourSum(nums, target):\n",
    "    nums.sort()\n",
    "    n = len(nums)\n",
    "    result = []\n",
    "\n",
    "    for a in range(n - 3):\n",
    "        if a > 0 and nums[a] == nums[a - 1]:\n",
    "            continue\n",
    "\n",
    "        for b in range(a + 1, n - 2):\n",
    "            if b > a + 1 and nums[b] == nums[b - 1]:\n",
    "                continue\n",
    "\n",
    "            left = b + 1\n",
    "            right = n - 1\n",
    "\n",
    "            while left < right:\n",
    "                currentSum = nums[a] + nums[b] + nums[left] + nums[right]\n",
    "\n",
    "                if currentSum == target:\n",
    "                    result.append([nums[a], nums[b], nums[left], nums[right]])\n",
    "\n",
    "                    while left < right and nums[left] == nums[left + 1]:\n",
    "                        left += 1\n",
    "                    while left < right and nums[right] == nums[right - 1]:\n",
    "                        right -= 1\n",
    "\n",
    "                    left += 1\n",
    "                    right -= 1\n",
    "                elif currentSum > target:\n",
    "                    right -= 1\n",
    "                else:\n",
    "                    left += 1\n",
    "\n",
    "    return result"
   ]
  },
  {
   "cell_type": "code",
   "execution_count": 4,
   "id": "a02a7c0f-d2db-4ec0-a9da-4d193c2f5ca0",
   "metadata": {},
   "outputs": [
    {
     "name": "stdout",
     "output_type": "stream",
     "text": [
      "Output : [[-2, -1, 1, 2], [-2, 0, 0, 2], [-1, 0, 0, 1]]\n"
     ]
    }
   ],
   "source": [
    "nums = [1, 0, -1, 0, -2, 2]\n",
    "target = 0\n",
    "result = fourSum(nums, target)\n",
    "print(f\"Output : {result}\")"
   ]
  },
  {
   "attachments": {},
   "cell_type": "markdown",
   "id": "d782cb86-414d-4846-bfde-de9d8d475589",
   "metadata": {},
   "source": [
    "#### Question 3\n",
    "#### A permutation of an array of integers is an arrangement of its members into a\n",
    "#### sequence or linear order.\n",
    "\n",
    "#### For example, for arr = [1,2,3], the following are all the permutations of arr:\n",
    "#### [1,2,3], [1,3,2], [2, 1, 3], [2, 3, 1], [3,1,2], [3,2,1].\n",
    "\n",
    "#### The next permutation of an array of integers is the next lexicographically greater\n",
    "#### permutation of its integer. More formally, if all the permutations of the array are\n",
    "#### sorted in one container according to their lexicographical order, then the next\n",
    "#### permutation of that array is the permutation that follows it in the sorted container.\n",
    "\n",
    "#### If such an arrangement is not possible, the array must be rearranged as the\n",
    "#### lowest possible order (i.e., sorted in ascending order).\n",
    "\n",
    "● For example, the next permutation of arr = [1,2,3] is [1,3,2].<br>\n",
    "● Similarly, the next permutation of arr = [2,3,1] is [3,1,2].<br>\n",
    "● While the next permutation of arr = [3,2,1] is [1,2,3] because [3,2,1] does not\n",
    "have a lexicographical larger rearrangement.\n",
    "\n",
    "#### #### Given an array of integers nums, find the next permutation of nums.\n",
    "#### The replacement must be in place and use only constant extra memory.\n",
    "\n",
    "#### Example 1:\n",
    "#### Input: nums = [1,2,3]\n",
    "#### Output: [1,3,2]"
   ]
  },
  {
   "cell_type": "code",
   "execution_count": 5,
   "id": "c0451b36-229c-4420-be02-b69e66ad4f1c",
   "metadata": {},
   "outputs": [],
   "source": [
    "def nextPermutation(nums):\n",
    "    n = len(nums)\n",
    "    i = n - 2\n",
    "\n",
    "    # Find the first pair (i, i+1) from the right where nums[i] < nums[i+1]\n",
    "    while i >= 0 and nums[i] >= nums[i + 1]:\n",
    "        i -= 1\n",
    "\n",
    "    if i >= 0:\n",
    "        # Find the next greater element than nums[i] among the elements to the right\n",
    "        j = n - 1\n",
    "        while j > i and nums[j] <= nums[i]:\n",
    "            j -= 1\n",
    "\n",
    "        # Swap nums[i] and nums[j]\n",
    "        nums[i], nums[j] = nums[j], nums[i]\n",
    "\n",
    "    # Reverse the suffix to get the next permutation\n",
    "    left = i + 1\n",
    "    right = n - 1\n",
    "    while left < right:\n",
    "        nums[left], nums[right] = nums[right], nums[left]\n",
    "        left += 1\n",
    "        right -= 1"
   ]
  },
  {
   "cell_type": "code",
   "execution_count": 6,
   "id": "6931377c-18d5-428b-998c-26975779d6ac",
   "metadata": {},
   "outputs": [
    {
     "name": "stdout",
     "output_type": "stream",
     "text": [
      "Output : [1, 3, 2]\n"
     ]
    }
   ],
   "source": [
    "nums = [1, 2, 3]\n",
    "nextPermutation(nums)\n",
    "print(f\"Output : {nums}\")"
   ]
  },
  {
   "attachments": {},
   "cell_type": "markdown",
   "id": "c1c9cbe4-be6c-4678-a4e4-fc6da066a54e",
   "metadata": {},
   "source": [
    "#### Question 4\n",
    "#### Given a sorted array of distinct integers and a target value, return the index if the\n",
    "#### target is found. If not, return the index where it would be if it were inserted in\n",
    "#### order.\n",
    "\n",
    "#### You must write an algorithm with O(log n) runtime complexity.\n",
    "\n",
    "#### Example 1:\n",
    "#### Input: nums = [1,3,5,6], target = 5\n",
    "#### Output: 2"
   ]
  },
  {
   "cell_type": "code",
   "execution_count": 7,
   "id": "a16a58f5-c48c-406a-a3c3-0c1f721b9d05",
   "metadata": {},
   "outputs": [],
   "source": [
    "def searchInsert(nums, target):\n",
    "    left = 0\n",
    "    right = len(nums) - 1\n",
    "\n",
    "    while left <= right:\n",
    "        mid = (left + right) // 2\n",
    "\n",
    "        if nums[mid] == target:\n",
    "            return mid\n",
    "        elif nums[mid] < target:\n",
    "            left = mid + 1\n",
    "        else:\n",
    "            right = mid - 1\n",
    "\n",
    "    return left"
   ]
  },
  {
   "cell_type": "code",
   "execution_count": 8,
   "id": "4529cad6-92b5-4a17-98b1-475e089dc0d9",
   "metadata": {},
   "outputs": [
    {
     "name": "stdout",
     "output_type": "stream",
     "text": [
      "Output : 2\n"
     ]
    }
   ],
   "source": [
    "nums = [1, 3, 5, 6]\n",
    "target = 5\n",
    "index = searchInsert(nums, target)\n",
    "print(f\"Output : {index}\")"
   ]
  },
  {
   "attachments": {},
   "cell_type": "markdown",
   "id": "1bd878ec-3710-482d-be6f-f0a1c009024f",
   "metadata": {},
   "source": [
    "#### Question 5\n",
    "#### You are given a large integer represented as an integer array digits, where each\n",
    "#### digits[i] is the ith digit of the integer. The digits are ordered from most significant\n",
    "#### to least significant in left-to-right order. The large integer does not contain any\n",
    "#### leading 0's.\n",
    "\n",
    "#### Increment the large integer by one and return the resulting array of digits.\n",
    "\n",
    "#### Example 1:\n",
    "#### Input: digits = [1,2,3]\n",
    "#### Output: [1,2,4]\n",
    "\n",
    "#### Explanation: The array represents the integer 123.\n",
    "#### Incrementing by one gives 123 + 1 = 124.\n",
    "#### Thus, the result should be [1,2,4]."
   ]
  },
  {
   "cell_type": "code",
   "execution_count": 9,
   "id": "fe108f1e-a8d0-45ed-97ff-1cbd10d9615b",
   "metadata": {},
   "outputs": [],
   "source": [
    "def plusOne(digits):\n",
    "    carry = 1\n",
    "    n = len(digits)\n",
    "\n",
    "    for i in range(n - 1, -1, -1):\n",
    "        digits[i] += carry\n",
    "\n",
    "        if digits[i] < 10:\n",
    "            carry = 0\n",
    "            break\n",
    "\n",
    "        digits[i] = 0\n",
    "\n",
    "    if carry == 1:\n",
    "        digits.insert(0, 1)\n",
    "\n",
    "    return digits"
   ]
  },
  {
   "cell_type": "code",
   "execution_count": 10,
   "id": "4c099d21-1849-48d2-a5be-f618b8859bc3",
   "metadata": {},
   "outputs": [
    {
     "name": "stdout",
     "output_type": "stream",
     "text": [
      "Output : [1, 2, 4]\n"
     ]
    }
   ],
   "source": [
    "digits = [1, 2, 3]\n",
    "result = plusOne(digits)\n",
    "print(f\"Output : {result}\")"
   ]
  },
  {
   "attachments": {},
   "cell_type": "markdown",
   "id": "e8f88f18-a03d-42df-976b-9aa04333a5ec",
   "metadata": {},
   "source": [
    "#### Question 6\n",
    "#### Given a non-empty array of integers nums, every element appears twice except\n",
    "#### for one. Find that single one.\n",
    "\n",
    "#### You must implement a solution with a linear runtime complexity and use only\n",
    "#### constant extra space.\n",
    "\n",
    "#### Example 1:\n",
    "#### Input: nums = [2,2,1]\n",
    "#### Output: 1"
   ]
  },
  {
   "cell_type": "code",
   "execution_count": 11,
   "id": "52936552-99ff-4d7c-b2ff-8d17ade82185",
   "metadata": {},
   "outputs": [],
   "source": [
    "def singleNumber(nums):\n",
    "    result = 0\n",
    "    for num in nums:\n",
    "        result ^= num\n",
    "    return result"
   ]
  },
  {
   "cell_type": "code",
   "execution_count": 12,
   "id": "124fc758-7694-418d-998f-f53d132b2221",
   "metadata": {},
   "outputs": [
    {
     "name": "stdout",
     "output_type": "stream",
     "text": [
      "Output : 1\n"
     ]
    }
   ],
   "source": [
    "nums = [2, 2, 1]\n",
    "result = singleNumber(nums)\n",
    "print(f\"Output : {result}\")"
   ]
  },
  {
   "attachments": {},
   "cell_type": "markdown",
   "id": "fb547831-b315-4332-a1b2-7ccb98281f78",
   "metadata": {},
   "source": [
    "#### Question 7\n",
    "#### You are given an inclusive range [lower, upper] and a sorted unique integer array\n",
    "#### nums, where all elements are within the inclusive range.\n",
    "\n",
    "#### A number x is considered missing if x is in the range [lower, upper] and x is not in\n",
    "#### nums.\n",
    "\n",
    "#### Return the shortest sorted list of ranges that exactly covers all the missing\n",
    "#### numbers. That is, no element of nums is included in any of the ranges, and each\n",
    "#### missing number is covered by one of the ranges.\n",
    "\n",
    "#### Example 1:\n",
    "#### Input: nums = [0,1,3,50,75], lower = 0, upper = 99\n",
    "#### Output: [[2,2],[4,49],[51,74],[76,99]]\n",
    "\n",
    "#### Explanation: The ranges are:\n",
    "#### [2,2]\n",
    "#### [4,49]\n",
    "#### [51,74]\n",
    "#### [76,99]"
   ]
  },
  {
   "cell_type": "code",
   "execution_count": 13,
   "id": "ea2164f7-2e62-4a64-8106-065d97485493",
   "metadata": {},
   "outputs": [],
   "source": [
    "def find_missing_ranges(nums, lower, upper):\n",
    "  # Create a list of all the missing numbers in the range.\n",
    "  missing_numbers = []\n",
    "  for i in range(lower, upper + 1):\n",
    "    if i not in nums:\n",
    "      missing_numbers.append(i)\n",
    "\n",
    "  # Sort the missing numbers.\n",
    "  missing_numbers.sort()\n",
    "\n",
    "  # Create a list of ranges to represent the missing numbers.\n",
    "  ranges = []\n",
    "  start = missing_numbers[0]\n",
    "  end = start\n",
    "  for i in range(1, len(missing_numbers)):\n",
    "    if missing_numbers[i] == end + 1:\n",
    "      end = missing_numbers[i]\n",
    "    else:\n",
    "      ranges.append([start, end])\n",
    "      start = missing_numbers[i]\n",
    "      end = start\n",
    "\n",
    "  # Add the last range to the list.\n",
    "  ranges.append([start, end])\n",
    "\n",
    "  return ranges\n"
   ]
  },
  {
   "cell_type": "code",
   "execution_count": 14,
   "id": "c82306bf-7bfa-4e5b-9843-b13e5c7fddd3",
   "metadata": {},
   "outputs": [
    {
     "name": "stdout",
     "output_type": "stream",
     "text": [
      "Output : [[2, 2], [4, 49], [51, 74], [76, 99]]\n"
     ]
    }
   ],
   "source": [
    "nums = [0, 1, 3, 50, 75]\n",
    "lower = 0\n",
    "upper = 99\n",
    "\n",
    "ranges = find_missing_ranges(nums, lower, upper)\n",
    "\n",
    "print(f\"Output : {ranges}\")"
   ]
  },
  {
   "attachments": {},
   "cell_type": "markdown",
   "id": "39f18023-576c-4e00-b20b-b557035019ae",
   "metadata": {},
   "source": [
    "#### Question 8\n",
    "#### Given an array of meeting time intervals where intervals[i] = [starti, endi],\n",
    "#### determine if a person could attend all meetings.\n",
    "\n",
    "#### Example 1:\n",
    "#### Input: intervals = [[0,30],[5,10],[15,20]]\n",
    "#### Output: false"
   ]
  },
  {
   "cell_type": "code",
   "execution_count": 15,
   "id": "60c4c3e1-7f29-4d00-9de3-19726b0a8744",
   "metadata": {},
   "outputs": [],
   "source": [
    "def canAttendMeetings(intervals):\n",
    "    intervals.sort(key=lambda x: x[0])  # Sort intervals based on start times\n",
    "\n",
    "    for i in range(1, len(intervals)):\n",
    "        if intervals[i][0] < intervals[i - 1][1]:\n",
    "            return False\n",
    "\n",
    "    return True"
   ]
  },
  {
   "cell_type": "code",
   "execution_count": 16,
   "id": "602f0a03-12fc-4dcb-aff6-9b19fd3cff7e",
   "metadata": {},
   "outputs": [
    {
     "name": "stdout",
     "output_type": "stream",
     "text": [
      "Output : False\n"
     ]
    }
   ],
   "source": [
    "intervals = [[0, 30], [5, 10], [15, 20]]\n",
    "result = canAttendMeetings(intervals)\n",
    "print(f\"Output : {result}\")"
   ]
  }
 ],
 "metadata": {
  "kernelspec": {
   "display_name": "Python 3 (ipykernel)",
   "language": "python",
   "name": "python3"
  },
  "language_info": {
   "codemirror_mode": {
    "name": "ipython",
    "version": 3
   },
   "file_extension": ".py",
   "mimetype": "text/x-python",
   "name": "python",
   "nbconvert_exporter": "python",
   "pygments_lexer": "ipython3",
   "version": "3.10.6"
  }
 },
 "nbformat": 4,
 "nbformat_minor": 5
}
