{
 "cells": [
  {
   "cell_type": "markdown",
   "id": "09d3aa2a-5cab-4d56-85c3-dd59d63774be",
   "metadata": {},
   "source": [
    "# Assignment No.1"
   ]
  },
  {
   "cell_type": "markdown",
   "id": "4c22e33e-2bab-4e84-9b57-4e2e17b4c7d0",
   "metadata": {},
   "source": [
    "#### Q1. Given an array of integers nums and an integer target, return indices of the two numbers such that they add up to target.\n",
    "\n",
    "#### You may assume that each input would have exactly one solution, and you may not use the same element twice.\n",
    "\n",
    "#### You can return the answer in any order.\n",
    "\n",
    "#### Example:\n",
    "#### Input: nums = [2,7,11,15], target = 9\n",
    "\n",
    "#### Output: [0,1]\n",
    "\n",
    "#### Explanation:Because nums[0] + nums[1] == 9, we return [0, 1]["
   ]
  },
  {
   "cell_type": "code",
   "execution_count": 8,
   "id": "ffeb5e7d-fd6a-40cd-8d80-68353662c577",
   "metadata": {},
   "outputs": [
    {
     "name": "stdout",
     "output_type": "stream",
     "text": [
      "Output : [0, 1]\n"
     ]
    }
   ],
   "source": [
    "def twoSum(nums, target):\n",
    "    num_dict = {}\n",
    "    for i in range(len(nums)):\n",
    "        complement = target - nums[i]\n",
    "        if complement in num_dict:\n",
    "            return [num_dict[complement], i]\n",
    "        num_dict[nums[i]] = i\n",
    "    return []\n",
    "\n",
    "# Example usage\n",
    "nums = [2, 7, 11, 15]\n",
    "target = 9\n",
    "result = twoSum(nums, target)\n",
    "print(f\"Output : {result}\")"
   ]
  },
  {
   "cell_type": "markdown",
   "id": "f367a982-c747-468c-8e31-9d21adcbb433",
   "metadata": {},
   "source": [
    "#### Q2. Given an integer array nums and an integer val, remove all occurrences of val in nums in-place. The order of the elements may be changed. Then return the number of elements in nums which are not equal to val.\n",
    "\n",
    "#### Consider the number of elements in nums which are not equal to val be k, to get accepted, you need to do the following things:\n",
    "\n",
    "- Change the array nums such that the first k elements of nums contain the elements which are not equal to val. The remaining elements of nums are not important as well as the size of nums.\n",
    "- Return k.\n",
    "\n",
    "#### Example :\n",
    "#### Input: nums = [3,2,2,3], val = 3\n",
    "#### Output: 2, nums = [2,2,_*,_*]\n",
    "\n",
    "#### Explanation: function should return k = 2, with the first two elements of nums being 2. It does not matter what you leave beyond the returned k (hence they are underscores)["
   ]
  },
  {
   "cell_type": "code",
   "execution_count": 9,
   "id": "8c58a88c-f0d9-42b9-a196-814fa59001c8",
   "metadata": {},
   "outputs": [
    {
     "name": "stdout",
     "output_type": "stream",
     "text": [
      "Output : 2, [2, 2, 2, 3]\n"
     ]
    }
   ],
   "source": [
    "def removeElement(nums, val):\n",
    "    i = 0\n",
    "    j = 0\n",
    "    while j < len(nums):\n",
    "        if nums[j] != val:\n",
    "            nums[i] = nums[j]\n",
    "            i += 1\n",
    "        j += 1\n",
    "    return i\n",
    "\n",
    "# Example usage\n",
    "nums = [3, 2, 2, 3]\n",
    "val = 3\n",
    "k = removeElement(nums, val)\n",
    "print(f\"Output : {k}, {nums}\")"
   ]
  },
  {
   "cell_type": "markdown",
   "id": "ade4d0d0-df92-401d-a8a2-3e14cd55ef9d",
   "metadata": {},
   "source": [
    "#### Q3. Given a sorted array of distinct integers and a target value, return the index if the target is found. If not, return the index where it would be if it were inserted in order.\n",
    "\n",
    "#### You must write an algorithm with O(log n) runtime complexity.\n",
    "\n",
    "#### Example 1:\n",
    "#### Input: nums = [1,3,5,6], target = 5\n",
    "\n",
    "#### Output: 2"
   ]
  },
  {
   "cell_type": "markdown",
   "id": "91f28c78-00d5-48a4-a586-22229a024a92",
   "metadata": {},
   "source": [
    "To solve this problem with O(log n) runtime complexity, we can use a binary search algorithm. Here's the step-by-step algorithm:\n",
    "\n",
    "1. Initialize two pointers, `left` and `right`, to the start and end of the array respectively.\n",
    "2. Iterate while `left` is less than or equal to `right`:\n",
    "   - Calculate the middle index as `mid` using the formula: `mid = (left + right) // 2`.\n",
    "   - If the middle element `nums[mid]` is equal to the target, return `mid` as the index where the target is found.\n",
    "   - If the middle element is greater than the target, update `right = mid - 1` to search the left half of the array.\n",
    "   - If the middle element is less than the target, update `left = mid + 1` to search the right half of the array.\n",
    "3. If the target is not found in the array, the `left` pointer will be pointing to the index where the target should be inserted.\n",
    "   - Return `left` as the index where the target would be inserted in order."
   ]
  },
  {
   "cell_type": "code",
   "execution_count": 10,
   "id": "3a70e520-c755-4c65-8033-339e7cd72b14",
   "metadata": {},
   "outputs": [
    {
     "name": "stdout",
     "output_type": "stream",
     "text": [
      "Output : 2\n"
     ]
    }
   ],
   "source": [
    "def searchInsert(nums, target):\n",
    "    left = 0\n",
    "    right = len(nums) - 1\n",
    "\n",
    "    while left <= right:\n",
    "        mid = (left + right) // 2\n",
    "        if nums[mid] == target:\n",
    "            return mid\n",
    "        elif nums[mid] < target:\n",
    "            left = mid + 1\n",
    "        else:\n",
    "            right = mid - 1\n",
    "\n",
    "    return left\n",
    "\n",
    "# Example usage\n",
    "nums = [1, 3, 5, 6]\n",
    "target = 5\n",
    "index = searchInsert(nums, target)\n",
    "print(f\"Output : {index}\")"
   ]
  },
  {
   "cell_type": "markdown",
   "id": "9a39837f-f984-43e5-9d7f-7aa531a196e1",
   "metadata": {},
   "source": [
    "#### Q4. You are given a large integer represented as an integer array digits, where each digits[i] is the ith digit of the integer. The digits are ordered from most significant to least significant in left-to-right order. The large integer does not contain any leading 0's.\n",
    "\n",
    "#### Increment the large integer by one and return the resulting array of digits.\n",
    "\n",
    "#### Example 1:\n",
    "#### Input: digits = [1,2,3]\n",
    "#### Output: [1,2,4]\n",
    "\n",
    "#### Explanation:The array represents the integer 123.\n",
    "\n",
    "#### Incrementing by one gives 123 + 1 = 124.\n",
    "####  Thus, the result should be [1,2,4]."
   ]
  },
  {
   "cell_type": "code",
   "execution_count": 11,
   "id": "af7f256e-1095-4798-9b74-e72ce3ef27e5",
   "metadata": {},
   "outputs": [
    {
     "name": "stdout",
     "output_type": "stream",
     "text": [
      "Output : [1, 2, 4]\n"
     ]
    }
   ],
   "source": [
    "def plusOne(digits):\n",
    "    carry = 1\n",
    "    for i in range(len(digits) - 1, -1, -1):\n",
    "        digits[i] += carry\n",
    "        carry = digits[i] // 10\n",
    "        digits[i] %= 10\n",
    "        if carry == 0:\n",
    "            return digits\n",
    "    if carry != 0:\n",
    "        digits.insert(0, carry)\n",
    "    return digits\n",
    "\n",
    "# Example usage\n",
    "digits = [1, 2, 3]\n",
    "result = plusOne(digits)\n",
    "print(f\"Output : {result}\")"
   ]
  },
  {
   "cell_type": "markdown",
   "id": "96b435c8-86d0-456c-8a2f-1c2595382a87",
   "metadata": {},
   "source": [
    "#### Q5. You are given two integer arrays nums1 and nums2, sorted in non-decreasing order, and two integers m and n, representing the number of elements in nums1 and nums2 respectively.\n",
    "\n",
    "#### Merge nums1 and nums2 into a single array sorted in non-decreasing order.\n",
    "\n",
    "#### The final sorted array should not be returned by the function, but instead be stored inside the array nums1. To accommodate this, nums1 has a length of m + n, where the first m elements denote the elements that should be merged, and the last n elements are set to 0 and should be ignored. nums2 has a length of n.\n",
    "\n",
    "#### Example 1:\n",
    "#### Input: nums1 = [1,2,3,0,0,0], m = 3, nums2 = [2,5,6], n = 3\n",
    "#### Output: [1,2,2,3,5,6]\n",
    "\n",
    "#### Explanation:The arrays we are merging are [1,2,3] and [2,5,6].\n",
    "#### The result of the merge is [1,2,2,3,5,6] with the underlined elements coming from nums1."
   ]
  },
  {
   "cell_type": "code",
   "execution_count": 12,
   "id": "32f5d65e-f3c1-4af0-816f-34974254279f",
   "metadata": {},
   "outputs": [
    {
     "name": "stdout",
     "output_type": "stream",
     "text": [
      "Output : [1, 2, 2, 3, 5, 6]\n"
     ]
    }
   ],
   "source": [
    "def merge(nums1, m, nums2, n):\n",
    "    p1 = m - 1\n",
    "    p2 = n - 1\n",
    "    p = m + n - 1\n",
    "\n",
    "    while p1 >= 0 and p2 >= 0:\n",
    "        if nums1[p1] >= nums2[p2]:\n",
    "            nums1[p] = nums1[p1]\n",
    "            p1 -= 1\n",
    "        else:\n",
    "            nums1[p] = nums2[p2]\n",
    "            p2 -= 1\n",
    "        p -= 1\n",
    "\n",
    "    # Copy remaining elements from nums2 to nums1\n",
    "    nums1[:p2 + 1] = nums2[:p2 + 1]\n",
    "\n",
    "# Example usage\n",
    "nums1 = [1, 2, 3, 0, 0, 0]\n",
    "m = 3\n",
    "nums2 = [2, 5, 6]\n",
    "n = 3\n",
    "\n",
    "merge(nums1, m, nums2, n)\n",
    "print(f\"Output : {nums1}\")\n"
   ]
  },
  {
   "cell_type": "markdown",
   "id": "1655d60e-5f11-4cd9-a2fc-e348d8fb823d",
   "metadata": {},
   "source": [
    "#### Q6. Given an integer array nums, return true if any value appears at least twice in the array, and return false if every element is distinct.\n",
    "\n",
    "#### #### #### Example 1:\n",
    "#### #### Input: nums = [1,2,3,1]\n",
    "\n",
    "#### Output: true"
   ]
  },
  {
   "cell_type": "code",
   "execution_count": 16,
   "id": "ae34ce07-9e84-4188-9579-f679d5a83d96",
   "metadata": {},
   "outputs": [
    {
     "name": "stdout",
     "output_type": "stream",
     "text": [
      "Output : True\n"
     ]
    }
   ],
   "source": [
    "def containsDuplicate(nums):\n",
    "    num_set = set()\n",
    "\n",
    "    for num in nums:\n",
    "        if num in num_set:\n",
    "            return True\n",
    "        num_set.add(num)\n",
    "\n",
    "    return False\n",
    "\n",
    "# Example usage\n",
    "nums = [1, 2, 3, 1]\n",
    "result = containsDuplicate(nums)\n",
    "print(f\"Output : {result}\")"
   ]
  },
  {
   "cell_type": "markdown",
   "id": "5b673d15-5c06-4f5a-ad75-865c12526313",
   "metadata": {},
   "source": [
    "####  Q7. Given an integer array nums, move all 0's to the end of it while maintaining the relative order of the nonzero elements.\n",
    "\n",
    "#### Note that you must do this in-place without making a copy of the array.\n",
    "\n",
    "#### Example 1:\n",
    "#### Input: nums = [0,1,0,3,12]\n",
    "#### Output: [1,3,12,0,0]"
   ]
  },
  {
   "cell_type": "code",
   "execution_count": 18,
   "id": "baf13cd3-4224-4767-9fe3-1939f8204a3b",
   "metadata": {},
   "outputs": [
    {
     "name": "stdout",
     "output_type": "stream",
     "text": [
      "Output : [1, 3, 12, 0, 0]\n"
     ]
    }
   ],
   "source": [
    "def moveZeroes(nums):\n",
    "    left = 0\n",
    "    right = 0\n",
    "\n",
    "    while right < len(nums):\n",
    "        if nums[right] != 0:\n",
    "            nums[left], nums[right] = nums[right], nums[left]\n",
    "            left += 1\n",
    "        right += 1\n",
    "\n",
    "    nums[left:] = [0] * (len(nums) - left)\n",
    "\n",
    "# Example usage\n",
    "nums = [0, 1, 0, 3, 12]\n",
    "moveZeroes(nums)\n",
    "print(f\"Output : {nums}\")"
   ]
  },
  {
   "cell_type": "markdown",
   "id": "5877a3f8-a36f-4c25-bb57-5d19766b67b9",
   "metadata": {},
   "source": [
    "#### Q8. You have a set of integers s, which originally contains all the numbers from 1 to n. Unfortunately, due to some error, one of the numbers in s got duplicated to another number in the set, which results in repetition of one number and loss of another number.\n",
    "\n",
    "#### You are given an integer array nums representing the data status of this set after the error.\n",
    "\n",
    "#### Find the number that occurs twice and the number that is missing and return them in the form of an array.\n",
    "\n",
    "#### Example 1:\n",
    "#### Input: nums = [1,2,2,4]\n",
    "#### Output: [2,3]"
   ]
  },
  {
   "cell_type": "code",
   "execution_count": 19,
   "id": "396c9813-48b1-4756-a8ff-9c53797851a2",
   "metadata": {},
   "outputs": [
    {
     "name": "stdout",
     "output_type": "stream",
     "text": [
      "Output : [2, 3]\n"
     ]
    }
   ],
   "source": [
    "def findErrorNums(nums):\n",
    "    numSet = set()\n",
    "    duplicate = 0\n",
    "    missing = 0\n",
    "\n",
    "    for num in nums:\n",
    "        if num in numSet:\n",
    "            duplicate = num\n",
    "        numSet.add(num)\n",
    "\n",
    "    for i in range(1, len(nums) + 1):\n",
    "        if i not in numSet:\n",
    "            missing = i\n",
    "            break\n",
    "\n",
    "    return [duplicate, missing]\n",
    "\n",
    "# Example usage\n",
    "nums = [1, 2, 2, 4]\n",
    "result = findErrorNums(nums)\n",
    "print(f\"Output : {result}\")"
   ]
  }
 ],
 "metadata": {
  "kernelspec": {
   "display_name": "Python 3 (ipykernel)",
   "language": "python",
   "name": "python3"
  },
  "language_info": {
   "codemirror_mode": {
    "name": "ipython",
    "version": 3
   },
   "file_extension": ".py",
   "mimetype": "text/x-python",
   "name": "python",
   "nbconvert_exporter": "python",
   "pygments_lexer": "ipython3",
   "version": "3.10.6"
  }
 },
 "nbformat": 4,
 "nbformat_minor": 5
}
