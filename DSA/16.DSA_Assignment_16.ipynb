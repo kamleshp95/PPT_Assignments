{
 "cells": [
  {
   "attachments": {},
   "cell_type": "markdown",
   "metadata": {},
   "source": [
    "# Assignment 16 - Stacks"
   ]
  },
  {
   "attachments": {},
   "cell_type": "markdown",
   "metadata": {},
   "source": [
    "#### **Question 1**\n",
    "\n",
    "#### Given an array, for each element find the value of the nearest element to the right which is having a frequency greater than that of the current element. If there does not exist an answer for a position, then make the value ‘-1’.\n",
    "\n",
    "#### **Examples:**\n",
    "\n",
    "```\n",
    "Input: a[] = [1, 1, 2, 3, 4, 2, 1]\n",
    "Output : [-1, -1, 1, 2, 2, 1, -1]\n",
    "\n",
    "Explanation:\n",
    "Given array a[] = [1, 1, 2, 3, 4, 2, 1]\n",
    "Frequency of each element is: 3, 3, 2, 1, 1, 2, 3\n",
    "\n",
    "Lets calls Next Greater Frequency element as NGF\n",
    "1. For element a[0] = 1 which has a frequency = 3,\n",
    "   As it has frequency of 3 and no other next element\n",
    "   has frequency more than 3 so  '-1'\n",
    "2. For element a[1] = 1 it will be -1 same logic\n",
    "   like a[0]\n",
    "3. For element a[2] = 2 which has frequency = 2,\n",
    "   NGF element is 1 at position = 6  with frequency\n",
    "   of 3 > 2\n",
    "4. For element a[3] = 3 which has frequency = 1,\n",
    "   NGF element is 2 at position = 5 with frequency\n",
    "   of 2 > 1\n",
    "5. For element a[4] = 4 which has frequency = 1,\n",
    "   NGF element is 2 at position = 5 with frequency\n",
    "   of 2 > 1\n",
    "6. For element a[5] = 2 which has frequency = 2,\n",
    "   NGF element is 1 at position = 6 with frequency\n",
    "   of 3 > 2\n",
    "7. For element a[6] = 1 there is no element to its\n",
    "   right, hence -1\n",
    "```\n",
    "```\n",
    "Input : a[] = [1, 1, 1, 2, 2, 2, 2, 11, 3, 3]\n",
    "Output : [2, 2, 2, -1, -1, -1, -1, 3, -1, -1]\n",
    "```"
   ]
  },
  {
   "cell_type": "code",
   "execution_count": 1,
   "metadata": {},
   "outputs": [],
   "source": [
    "def findNextGreaterFrequency(arr):\n",
    "    frequency = {}\n",
    "    stack = []\n",
    "    answer = []\n",
    "\n",
    "    # Count the frequency of each element\n",
    "    for num in arr:\n",
    "        frequency[num] = frequency.get(num, 0) + 1\n",
    "\n",
    "    # Find the next greater frequency element\n",
    "    for num in reversed(arr):\n",
    "        while stack and frequency[num] >= frequency[stack[-1]]:\n",
    "            stack.pop()\n",
    "        if not stack:\n",
    "            answer.append(-1)\n",
    "        else:\n",
    "            answer.append(stack[-1])\n",
    "        stack.append(num)\n",
    "\n",
    "    # Reverse the answers array to match the order of the input array\n",
    "    answer.reverse()\n",
    "    return answer"
   ]
  },
  {
   "cell_type": "code",
   "execution_count": 2,
   "metadata": {},
   "outputs": [
    {
     "name": "stdout",
     "output_type": "stream",
     "text": [
      "[-1, -1, 1, 2, 2, 1, -1]\n",
      "[2, 2, 2, -1, -1, -1, -1, 3, -1, -1]\n"
     ]
    }
   ],
   "source": [
    "arr = [1, 1, 2, 3, 4, 2, 1]\n",
    "print(findNextGreaterFrequency(arr)) \n",
    "\n",
    "arr = [1, 1, 1, 2, 2, 2, 2, 11, 3, 3]\n",
    "print(findNextGreaterFrequency(arr)) \n"
   ]
  },
  {
   "attachments": {},
   "cell_type": "markdown",
   "metadata": {},
   "source": [
    "#### **Question 2**\n",
    "\n",
    "#### Given a stack of integers, sort it in ascending order using another temporary stack.\n",
    "\n",
    "#### **Examples:**\n",
    "\n",
    "```\n",
    "Input : [34, 3, 31, 98, 92, 23]\n",
    "Output : [3, 23, 31, 34, 92, 98]\n",
    "\n",
    "Input : [3, 5, 1, 4, 2, 8]\n",
    "Output : [1, 2, 3, 4, 5, 8]\n",
    "```"
   ]
  },
  {
   "cell_type": "code",
   "execution_count": 3,
   "metadata": {},
   "outputs": [
    {
     "name": "stdout",
     "output_type": "stream",
     "text": [
      "[98, 92, 34, 31, 23, 3]\n"
     ]
    }
   ],
   "source": [
    "def sortStack(stack):\n",
    "    tempStack = []\n",
    "\n",
    "    while stack:\n",
    "        # Pop an element from the input stack\n",
    "        temp = stack.pop()\n",
    "\n",
    "        while tempStack and tempStack[-1] > temp:\n",
    "            # Transfer elements from temporary stack back to input stack\n",
    "            stack.append(tempStack.pop())\n",
    "\n",
    "        # Push temp onto the temporary stack\n",
    "        tempStack.append(temp)\n",
    "\n",
    "    # Transfer elements from temporary stack back to input stack\n",
    "    while tempStack:\n",
    "        stack.append(tempStack.pop())\n",
    "\n",
    "    return stack\n",
    "\n",
    "stack = [34, 3, 31, 98, 92, 23]\n",
    "sortedStack = sortStack(stack)\n",
    "print(sortedStack)"
   ]
  },
  {
   "attachments": {},
   "cell_type": "markdown",
   "metadata": {},
   "source": [
    "#### **Question 3**\n",
    "\n",
    "#### Given a stack with **push()**, **pop()**, and **empty()** operations, The task is to delete the **middle** element ****of it without using any additional data structure.\n",
    "```\n",
    "Input  : Stack[] = [1, 2, 3, 4, 5]\n",
    "\n",
    "Output : Stack[] = [1, 2, 4, 5]\n",
    "\n",
    "Input  : Stack[] = [1, 2, 3, 4, 5, 6]\n",
    "\n",
    "Output : Stack[] = [1, 2, 4, 5, 6]\n",
    "```"
   ]
  },
  {
   "cell_type": "code",
   "execution_count": 4,
   "metadata": {},
   "outputs": [
    {
     "name": "stdout",
     "output_type": "stream",
     "text": [
      "[1, 2, 3, 5]\n"
     ]
    }
   ],
   "source": [
    "def deleteMiddle(stack, count=0):\n",
    "    if len(stack) == 0 or len(stack) == 1:\n",
    "        return stack\n",
    "\n",
    "    element = stack.pop()\n",
    "\n",
    "    stack = deleteMiddle(stack, count + 1)\n",
    "\n",
    "    middle_index = len(stack) // 2\n",
    "\n",
    "    if count != middle_index:\n",
    "        stack.append(element)\n",
    "\n",
    "    return stack\n",
    "\n",
    "stack = [1, 2, 3, 4, 5]\n",
    "result = deleteMiddle(stack)\n",
    "print(result)"
   ]
  },
  {
   "attachments": {},
   "cell_type": "markdown",
   "metadata": {},
   "source": [
    "#### **Question 4**\n",
    "\n",
    "#### Given a Queue consisting of first **n** natural numbers (in random order). The task is to check whether the given Queue elements can be arranged in increasing order in another Queue using a stack. The operation allowed are:\n",
    "\n",
    "1. Push and pop elements from the stack\n",
    "2. Pop (Or Dequeue) from the given Queue.\n",
    "3. Push (Or Enqueue) in the another Queue.\n",
    "\n",
    "#### **Examples :**\n",
    "```\n",
    "Input : Queue[] = { 5, 1, 2, 3, 4 } \n",
    "\n",
    "Output : Yes \n",
    "\n",
    "Pop the first element of the given Queue \n",
    "\n",
    "i.e 5. Push 5 into the stack. \n",
    "\n",
    "Now, pop all the elements of the given Queue and push them to second Queue. \n",
    "\n",
    "Now, pop element 5 in the stack and push it to the second Queue.   \n",
    "\n",
    "Input : Queue[] = { 5, 1, 2, 6, 3, 4 } \n",
    "\n",
    "Output : No \n",
    "\n",
    "Push 5 to stack. \n",
    "\n",
    "Pop 1, 2 from given Queue and push it to another Queue. \n",
    "\n",
    "Pop 6 from given Queue and push to stack. \n",
    "\n",
    "Pop 3, 4 from given Queue and push to second Queue. \n",
    "\n",
    "Now, from using any of above operation, we cannot push 5 into the second Queue because it is below the 6 in the stack.\n",
    "```\n"
   ]
  },
  {
   "cell_type": "code",
   "execution_count": 5,
   "metadata": {},
   "outputs": [
    {
     "name": "stdout",
     "output_type": "stream",
     "text": [
      "Yes\n"
     ]
    }
   ],
   "source": [
    "from queue import Queue\n",
    "\n",
    "def checkIncreasingOrder(queue):\n",
    "    stack = []\n",
    "    secondQueue = Queue()\n",
    "    expected = 1\n",
    "\n",
    "    while not queue.empty():\n",
    "        if queue.queue[0] == expected:\n",
    "            queue.get()\n",
    "            expected += 1\n",
    "        elif stack and stack[-1] == expected:\n",
    "            stack.pop()\n",
    "            expected += 1\n",
    "        else:\n",
    "            stack.append(queue.get())\n",
    "\n",
    "    while stack:\n",
    "        if stack[-1] == expected:\n",
    "            stack.pop()\n",
    "            expected += 1\n",
    "        else:\n",
    "            break\n",
    "\n",
    "    return \"Yes\" if queue.empty() and not stack else \"No\"\n",
    "\n",
    "queue = Queue()\n",
    "queue.put(5)\n",
    "queue.put(1)\n",
    "queue.put(2)\n",
    "queue.put(3)\n",
    "queue.put(4)\n",
    "\n",
    "result = checkIncreasingOrder(queue)\n",
    "print(result)"
   ]
  },
  {
   "attachments": {},
   "cell_type": "markdown",
   "metadata": {},
   "source": [
    "#### **Question 5**\n",
    "\n",
    "#### Given a number , write a program to reverse this number using stack.\n",
    "\n",
    "#### **Examples:**\n",
    "\n",
    "```\n",
    "Input : 365\n",
    "Output : 563\n",
    "\n",
    "Input : 6899\n",
    "Output : 9986\n",
    "```"
   ]
  },
  {
   "cell_type": "code",
   "execution_count": 6,
   "metadata": {},
   "outputs": [
    {
     "name": "stdout",
     "output_type": "stream",
     "text": [
      "563\n",
      "9986\n"
     ]
    }
   ],
   "source": [
    "def reverseNumber(number):\n",
    "    # Convert number to string\n",
    "    number_str = str(number)\n",
    "    \n",
    "    # Initialize an empty stack\n",
    "    stack = []\n",
    "    \n",
    "    # Push each digit onto the stack\n",
    "    for digit in number_str:\n",
    "        stack.append(digit)\n",
    "    \n",
    "    # Pop each digit from the stack and append it to a new string\n",
    "    reversed_str = \"\"\n",
    "    while stack:\n",
    "        reversed_str += stack.pop()\n",
    "    \n",
    "    # Convert the reversed string back into an integer\n",
    "    reversed_number = int(reversed_str)\n",
    "    \n",
    "    return reversed_number\n",
    "\n",
    "number = 365\n",
    "reversed_number = reverseNumber(number)\n",
    "print(reversed_number)\n",
    "\n",
    "number = 6899\n",
    "reversed_number = reverseNumber(number)\n",
    "print(reversed_number)"
   ]
  },
  {
   "attachments": {},
   "cell_type": "markdown",
   "metadata": {},
   "source": [
    "#### **Question 6**\n",
    "\n",
    "#### Given an integer k and a **[queue](https://www.geeksforgeeks.org/queue-data-structure/)** of integers, The task is to reverse the order #### of the first **k** elements of the queue, leaving the other elements in the same relative order.\n",
    "\n",
    "#### Only following standard operations are allowed on queue.\n",
    "\n",
    "- **enqueue(x) :** Add an item x to rear of queue\n",
    "- **dequeue() :** Remove an item from front of queue\n",
    "- **size() :** Returns number of elements in queue.\n",
    "- **front() :** Finds front item.\n"
   ]
  },
  {
   "cell_type": "code",
   "execution_count": 7,
   "metadata": {},
   "outputs": [
    {
     "name": "stdout",
     "output_type": "stream",
     "text": [
      "3\n",
      "2\n",
      "1\n",
      "4\n",
      "5\n"
     ]
    }
   ],
   "source": [
    "from queue import Queue\n",
    "\n",
    "\n",
    "def reverseFirstK(queue, k):\n",
    "    if k <= 0 or k > queue.qsize():\n",
    "        return queue\n",
    "    \n",
    "    stack = []\n",
    "    for _ in range(k):\n",
    "        stack.append(queue.get())\n",
    "    \n",
    "    new_queue = Queue()\n",
    "    while stack:\n",
    "        new_queue.put(stack.pop())\n",
    "    \n",
    "    while not queue.empty():\n",
    "        new_queue.put(queue.get())\n",
    "    \n",
    "    return new_queue\n",
    "\n",
    "queue = Queue()\n",
    "queue.put(1)\n",
    "queue.put(2)\n",
    "queue.put(3)\n",
    "queue.put(4)\n",
    "queue.put(5)\n",
    "\n",
    "k = 3\n",
    "reversed_queue = reverseFirstK(queue, k)\n",
    "\n",
    "while not reversed_queue.empty():\n",
    "    print(reversed_queue.get())"
   ]
  },
  {
   "attachments": {},
   "cell_type": "markdown",
   "metadata": {},
   "source": [
    "#### **Question 7**\n",
    "\n",
    "#### Given a sequence of n strings, the task is to check if any two similar words come together and then destroy each other then print the number of words left in the sequence after this pairwise destruction.\n",
    "\n",
    "#### **Examples:**\n",
    "```\n",
    "Input : ab aa aa bcd ab\n",
    "\n",
    "Output : 3\n",
    "\n",
    "As aa, aa destroys each other so,\n",
    "\n",
    "ab bcd ab is the new sequence.\n",
    "\n",
    "Input :  tom jerry jerry tom\n",
    "\n",
    "Output : 0\n",
    "\n",
    "As first both jerry will destroy each other.\n",
    "\n",
    "Then sequence will be tom, tom they will also destroy\n",
    "\n",
    "each other. So, the final sequence doesn’t contain any\n",
    "\n",
    "word.\n",
    "\n",
    "```"
   ]
  },
  {
   "cell_type": "code",
   "execution_count": 8,
   "metadata": {},
   "outputs": [
    {
     "name": "stdout",
     "output_type": "stream",
     "text": [
      "3\n"
     ]
    }
   ],
   "source": [
    "def countRemainingWords(words):\n",
    "    stack = []\n",
    "    for word in words:\n",
    "        if not stack or word != stack[-1]:\n",
    "            stack.append(word)\n",
    "        else:\n",
    "            stack.pop()\n",
    "    \n",
    "    return len(stack)\n",
    "\n",
    "sequence = \"ab aa aa bcd ab\"\n",
    "words = sequence.split()\n",
    "result = countRemainingWords(words)\n",
    "print(result)"
   ]
  },
  {
   "attachments": {},
   "cell_type": "markdown",
   "metadata": {},
   "source": [
    "#### **Question 8**\n",
    "\n",
    "#### Given an array of integers, the task is to find the maximum absolute difference between the nearest left and the right smaller element of every element in the array.\n",
    "\n",
    "#### **Note:** If there is no smaller element on right side or left side of any element then we take zero as the smaller element. For example for the leftmost element, the nearest smaller element on the left side is considered as 0. Similarly, for rightmost elements, the smaller element on the right side is considered as 0.\n",
    "\n",
    "#### **Examples:**\n",
    "\n",
    "```\n",
    "Input : arr[] = {2, 1, 8}\n",
    "Output : 1\n",
    "Left smaller  LS[] {0, 0, 1}\n",
    "Right smaller RS[] {1, 0, 0}\n",
    "Maximum Diff of abs(LS[i] - RS[i]) = 1\n",
    "\n",
    "Input  : arr[] = {2, 4, 8, 7, 7, 9, 3}\n",
    "Output : 4\n",
    "Left smaller   LS[] = {0, 2, 4, 4, 4, 7, 2}\n",
    "Right smaller  RS[] = {0, 3, 7, 3, 3, 3, 0}\n",
    "Maximum Diff of abs(LS[i] - RS[i]) = 7 - 3 = 4\n",
    "\n",
    "Input : arr[] = {5, 1, 9, 2, 5, 1, 7}\n",
    "Output : 1\n",
    "```"
   ]
  },
  {
   "cell_type": "code",
   "execution_count": 9,
   "metadata": {},
   "outputs": [
    {
     "name": "stdout",
     "output_type": "stream",
     "text": [
      "4\n"
     ]
    }
   ],
   "source": [
    "def maxAbsDifference(arr):\n",
    "    n = len(arr)\n",
    "    left_smaller = [0] * n\n",
    "    right_smaller = [0] * n\n",
    "\n",
    "    # Calculate nearest left smaller element\n",
    "    left_stack = []\n",
    "    for i in range(n):\n",
    "        while left_stack and left_stack[-1] >= arr[i]:\n",
    "            left_stack.pop()\n",
    "        if left_stack:\n",
    "            left_smaller[i] = left_stack[-1]\n",
    "        left_stack.append(arr[i])\n",
    "\n",
    "    # Calculate nearest right smaller element\n",
    "    right_stack = []\n",
    "    for i in range(n - 1, -1, -1):\n",
    "        while right_stack and right_stack[-1] >= arr[i]:\n",
    "            right_stack.pop()\n",
    "        if right_stack:\n",
    "            right_smaller[i] = right_stack[-1]\n",
    "        right_stack.append(arr[i])\n",
    "\n",
    "    max_diff = 0\n",
    "    for i in range(n):\n",
    "        max_diff = max(max_diff, abs(left_smaller[i] - right_smaller[i]))\n",
    "\n",
    "    return max_diff\n",
    "\n",
    "arr = [2, 4, 8, 7, 7, 9, 3]\n",
    "result = maxAbsDifference(arr)\n",
    "print(result)"
   ]
  }
 ],
 "metadata": {
  "kernelspec": {
   "display_name": "Python 3",
   "language": "python",
   "name": "python3"
  },
  "language_info": {
   "codemirror_mode": {
    "name": "ipython",
    "version": 3
   },
   "file_extension": ".py",
   "mimetype": "text/x-python",
   "name": "python",
   "nbconvert_exporter": "python",
   "pygments_lexer": "ipython3",
   "version": "3.9.6"
  },
  "orig_nbformat": 4
 },
 "nbformat": 4,
 "nbformat_minor": 2
}
