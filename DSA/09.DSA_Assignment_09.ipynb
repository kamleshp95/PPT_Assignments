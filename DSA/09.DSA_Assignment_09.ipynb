{
 "cells": [
  {
   "attachments": {},
   "cell_type": "markdown",
   "id": "1d22c989",
   "metadata": {},
   "source": [
    "# Assignment 9 - Recursion"
   ]
  },
  {
   "attachments": {},
   "cell_type": "markdown",
   "id": "14209744",
   "metadata": {},
   "source": [
    "#### Question 1\n",
    "\n",
    "#### Given an integer `n`, return *`true` if it is a power of two. Otherwise, return `false`*.\n",
    "\n",
    "#### An integer `n` is a power of two, if there exists an integer `x` such that `n == 2x`.\n",
    "\n",
    "#### Example 1:\n",
    "#### Input: n = 1 \n",
    "\n",
    "#### Output: true\n",
    "\n",
    "#### Example 2:\n",
    "#### Input: n = 16 \n",
    "\n",
    "#### Output: true\n",
    "\n",
    "#### Example 3:\n",
    "#### Input: n = 3 \n",
    "\n",
    "#### Output: false"
   ]
  },
  {
   "cell_type": "code",
   "execution_count": 1,
   "id": "552f4cea",
   "metadata": {},
   "outputs": [
    {
     "name": "stdout",
     "output_type": "stream",
     "text": [
      "Output : True\n",
      "Output : True\n",
      "Output : False\n"
     ]
    }
   ],
   "source": [
    "def isPowerOfTwo(n):\n",
    "    return n > 0 and (n & (n - 1)) == 0\n",
    "\n",
    "n = 1\n",
    "output = isPowerOfTwo(n)\n",
    "print(f\"Output : {output}\")  \n",
    "n = 16\n",
    "output = isPowerOfTwo(n)\n",
    "print(f\"Output : {output}\")  \n",
    "n = 3\n",
    "output = isPowerOfTwo(n)\n",
    "print(f\"Output : {output}\") "
   ]
  },
  {
   "attachments": {},
   "cell_type": "markdown",
   "id": "b87bac2e",
   "metadata": {},
   "source": [
    "#### Question 2\n",
    "\n",
    "#### Given a number n, find the sum of the first natural numbers.\n",
    "\n",
    "#### Example 1:\n",
    "\n",
    "#### Input: n = 3 \n",
    "\n",
    "#### Output: 6\n",
    "\n",
    "#### Example 2:\n",
    "\n",
    "#### Input  : 5 \n",
    "\n",
    "#### Output : 15"
   ]
  },
  {
   "cell_type": "code",
   "execution_count": 2,
   "id": "dde39d2a",
   "metadata": {},
   "outputs": [
    {
     "name": "stdout",
     "output_type": "stream",
     "text": [
      "Output : 6\n",
      "Output : 15\n"
     ]
    }
   ],
   "source": [
    "def sumOfNaturalNumbers(n):\n",
    "    sum = (n * (n + 1)) // 2\n",
    "    return sum\n",
    "n = 3\n",
    "output = sumOfNaturalNumbers(n)\n",
    "print(f\"Output : {output}\")  \n",
    "\n",
    "n = 5\n",
    "output = sumOfNaturalNumbers(n)\n",
    "print(f\"Output : {output}\") "
   ]
  },
  {
   "attachments": {},
   "cell_type": "markdown",
   "id": "49766b77",
   "metadata": {},
   "source": [
    "#### Question 3\n",
    "\n",
    "#### Given a positive integer, N. Find the factorial of N. \n",
    "\n",
    "#### Example 1:\n",
    "\n",
    "#### Input: N = 5 \n",
    "\n",
    "#### Output: 120\n",
    "\n",
    "#### Example 2:\n",
    "\n",
    "#### Input: N = 4\n",
    "\n",
    "#### Output: 24"
   ]
  },
  {
   "cell_type": "code",
   "execution_count": 3,
   "id": "057bc115",
   "metadata": {},
   "outputs": [
    {
     "name": "stdout",
     "output_type": "stream",
     "text": [
      "Output : 120\n",
      "Output : 24\n"
     ]
    }
   ],
   "source": [
    "def factorial(N):\n",
    "    factorial = 1\n",
    "    for i in range(1, N+1):\n",
    "        factorial *= i\n",
    "    return factorial\n",
    "N = 5\n",
    "output = factorial(N)\n",
    "print(f\"Output : {output}\") \n",
    "\n",
    "N = 4\n",
    "output = factorial(N)\n",
    "print(f\"Output : {output}\")  "
   ]
  },
  {
   "attachments": {},
   "cell_type": "markdown",
   "id": "ae97217c",
   "metadata": {},
   "source": [
    "#### Question 4\n",
    "\n",
    "#### Given a number N and a power P, the task is to find the exponent of this number raised to the given power, i.e. N^P.\n",
    "\n",
    "#### Example 1 : \n",
    "\n",
    "#### Input: N = 5, P = 2\n",
    "\n",
    "#### Output: 25\n",
    "\n",
    "#### Example 2 :\n",
    "#### Input: N = 2, P = 5\n",
    "\n",
    "#### Output: 32"
   ]
  },
  {
   "cell_type": "code",
   "execution_count": 4,
   "id": "fd9e4b6e",
   "metadata": {},
   "outputs": [
    {
     "name": "stdout",
     "output_type": "stream",
     "text": [
      "Output : 25\n",
      "Output : 32\n"
     ]
    }
   ],
   "source": [
    "def exponent(N, P):\n",
    "    result = N ** P\n",
    "    return result\n",
    "N = 5\n",
    "P = 2\n",
    "output = exponent(N, P)\n",
    "print(f\"Output : {output}\") \n",
    "\n",
    "N = 2\n",
    "P = 5\n",
    "output = exponent(N, P)\n",
    "print(f\"Output : {output}\")  "
   ]
  },
  {
   "attachments": {},
   "cell_type": "markdown",
   "id": "e0b4bf2a",
   "metadata": {},
   "source": [
    "#### Question 5\n",
    "\n",
    "#### Given an array of integers **arr**, the task is to find maximum element of that array using recursion.\n",
    "\n",
    "#### Example 1:\n",
    "\n",
    "#### Input: arr = {1, 4, 3, -5, -4, 8, 6};\n",
    "#### Output: 8\n",
    "\n",
    "#### Example 2:\n",
    "\n",
    "#### Input: arr = {1, 4, 45, 6, 10, -8};\n",
    "#### Output: 45"
   ]
  },
  {
   "cell_type": "code",
   "execution_count": 5,
   "id": "a5e4effa",
   "metadata": {},
   "outputs": [
    {
     "name": "stdout",
     "output_type": "stream",
     "text": [
      "Output : 8\n",
      "Output : 45\n"
     ]
    }
   ],
   "source": [
    "def find_max(arr):\n",
    "    if len(arr) == 1:\n",
    "        return arr[0]\n",
    "    else:\n",
    "        return max(arr[0], find_max(arr[1:]))\n",
    "arr = [1, 4, 3, -5, -4, 8, 6]\n",
    "output = find_max(arr)\n",
    "print(f\"Output : {output}\")  \n",
    "\n",
    "arr = [1, 4, 45, 6, 10, -8]\n",
    "output = find_max(arr)\n",
    "print(f\"Output : {output}\")  "
   ]
  },
  {
   "attachments": {},
   "cell_type": "markdown",
   "id": "47fa1caf",
   "metadata": {},
   "source": [
    "#### Question 6\n",
    "\n",
    "#### Given first term (a), common difference (d) and a integer N of the Arithmetic Progression series, the task is to find Nth term of the series.\n",
    "\n",
    "#### **Example 1:**\n",
    "\n",
    "#### Input : a = 2 d = 1 N = 5\n",
    "#### Output : 6\n",
    "#### The 5th term of the series is : 6\n",
    "\n",
    "#### **Example 2:**\n",
    "\n",
    "#### Input : a = 5 d = 2 N = 10\n",
    "#### Output : 23\n",
    "#### The 10th term of the series is : 23"
   ]
  },
  {
   "cell_type": "code",
   "execution_count": 6,
   "id": "f0aaf914",
   "metadata": {},
   "outputs": [
    {
     "name": "stdout",
     "output_type": "stream",
     "text": [
      "Output : 6\n",
      "Output : 23\n"
     ]
    }
   ],
   "source": [
    "def find_nth_term(a, d, N):\n",
    "    return a + (N - 1) * d\n",
    "a = 2\n",
    "d = 1\n",
    "N = 5\n",
    "output = find_nth_term(a, d, N)\n",
    "print(f\"Output : {output}\")  \n",
    "\n",
    "a = 5\n",
    "d = 2\n",
    "N = 10\n",
    "output = find_nth_term(a, d, N)\n",
    "print(f\"Output : {output}\")  "
   ]
  },
  {
   "attachments": {},
   "cell_type": "markdown",
   "id": "7ba29fe6",
   "metadata": {},
   "source": [
    "#### Question 7\n",
    "\n",
    "#### Given a string S, the task is to write a program to print all permutations of a given string.\n",
    "\n",
    "#### **Example 1:**\n",
    "\n",
    "#### ***Input:***\n",
    "\n",
    "#### *S = “ABC”*\n",
    "\n",
    "#### ***Output:***\n",
    "\n",
    "#### *“ABC”, “ACB”, “BAC”, “BCA”, “CBA”, “CAB”*\n",
    "\n",
    "#### **Example 2:**\n",
    "\n",
    "#### ***Input:***\n",
    "\n",
    "#### *S = “XY”*\n",
    "\n",
    "#### ***Output:***\n",
    "\n",
    "#### *“XY”, “YX”*"
   ]
  },
  {
   "cell_type": "code",
   "execution_count": 7,
   "id": "b156ad62",
   "metadata": {},
   "outputs": [
    {
     "name": "stdout",
     "output_type": "stream",
     "text": [
      "Output : ['ABC', 'ACB', 'BAC', 'BCA', 'CAB', 'CBA']\n",
      "Output : ['XY', 'YX']\n"
     ]
    }
   ],
   "source": [
    "def permute(current_permutation, remaining_chars, length):\n",
    "    if len(current_permutation) == length:\n",
    "        permutations.append(current_permutation)\n",
    "    else:\n",
    "        for i in range(len(remaining_chars)):\n",
    "            char = remaining_chars[i]\n",
    "            permute(current_permutation + char, remaining_chars[:i] + remaining_chars[i+1:], length)\n",
    "string = \"ABC\"\n",
    "permutations = []\n",
    "permute(\"\", string, len(string))\n",
    "print(f\"Output : {permutations}\")\n",
    "\n",
    "string = \"XY\"\n",
    "permutations = []\n",
    "permute(\"\", string, len(string))\n",
    "print(f\"Output : {permutations}\")"
   ]
  },
  {
   "attachments": {},
   "cell_type": "markdown",
   "id": "346cc2f3",
   "metadata": {},
   "source": [
    "\n",
    "#### **Question 8**\n",
    "\n",
    "#### Given an array, find a product of all array elements.\n",
    "\n",
    "#### **Example 1:**\n",
    "\n",
    "#### Input  : arr[] = {1, 2, 3, 4, 5}\n",
    "#### Output : 120\n",
    "#### **Example 2:**\n",
    "\n",
    "#### Input  : arr[] = {1, 6, 3}\n",
    "#### Output : 18"
   ]
  },
  {
   "cell_type": "code",
   "execution_count": 8,
   "id": "06bab003",
   "metadata": {},
   "outputs": [
    {
     "name": "stdout",
     "output_type": "stream",
     "text": [
      "120\n",
      "18\n"
     ]
    }
   ],
   "source": [
    "def product_of_array(arr):\n",
    "    product = 1\n",
    "    for num in arr:\n",
    "        product *= num\n",
    "    return product\n",
    "arr = [1, 2, 3, 4, 5]\n",
    "print(product_of_array(arr))\n",
    "\n",
    "arr = [1, 6, 3]\n",
    "print(product_of_array(arr))"
   ]
  }
 ],
 "metadata": {
  "kernelspec": {
   "display_name": "Python 3 (ipykernel)",
   "language": "python",
   "name": "python3"
  },
  "language_info": {
   "codemirror_mode": {
    "name": "ipython",
    "version": 3
   },
   "file_extension": ".py",
   "mimetype": "text/x-python",
   "name": "python",
   "nbconvert_exporter": "python",
   "pygments_lexer": "ipython3",
   "version": "3.9.6"
  }
 },
 "nbformat": 4,
 "nbformat_minor": 5
}
