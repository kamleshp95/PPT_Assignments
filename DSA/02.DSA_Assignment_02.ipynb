{
 "cells": [
  {
   "cell_type": "markdown",
   "id": "09d3aa2a-5cab-4d56-85c3-dd59d63774be",
   "metadata": {},
   "source": [
    "# Assignment No.2"
   ]
  },
  {
   "cell_type": "markdown",
   "id": "4c22e33e-2bab-4e84-9b57-4e2e17b4c7d0",
   "metadata": {},
   "source": [
    "#### Question 1\n",
    "#### Given an integer array nums of 2n integers, group these integers into n pairs (a1, b1), (a2, b2),..., (an, bn) such that the sum of min(ai, bi) for all i is maximized. Return the maximized sum.\n",
    "\n",
    "#### Example 1:\n",
    "#### Input: nums = [1,4,3,2]\n",
    "#### Output: 4\n",
    "\n",
    "#### Explanation: All possible pairings (ignoring the ordering of elements) are:\n",
    "\n",
    "#### #### 1. (1, 4), (2, 3) -> min(1, 4) + min(2, 3) = 1 + 2 = 3\n",
    "#### 2. (1, 3), (2, 4) -> min(1, 3) + min(2, 4) = 1 + 2 = 3\n",
    "#### 3. (1, 2), (3, 4) -> min(1, 2) + min(3, 4) = 1 + 3 = 4\n",
    "#### So the maximum possible sum is 4"
   ]
  },
  {
   "cell_type": "code",
   "execution_count": 1,
   "id": "ffeb5e7d-fd6a-40cd-8d80-68353662c577",
   "metadata": {},
   "outputs": [],
   "source": [
    "def arrayPairSum(nums):\n",
    "    nums.sort()\n",
    "    sum = 0\n",
    "    for i in range(0, len(nums), 2):\n",
    "        sum += nums[i]\n",
    "    return sum\n"
   ]
  },
  {
   "cell_type": "code",
   "execution_count": 2,
   "id": "98790924-0abc-4daf-aad5-1f364343efc1",
   "metadata": {},
   "outputs": [
    {
     "name": "stdout",
     "output_type": "stream",
     "text": [
      "Output : 4\n"
     ]
    }
   ],
   "source": [
    "nums = [1, 4, 3, 2]\n",
    "print(f\"Output : {arrayPairSum(nums)}\") "
   ]
  },
  {
   "cell_type": "markdown",
   "id": "f367a982-c747-468c-8e31-9d21adcbb433",
   "metadata": {},
   "source": [
    "#### Question 2\n",
    "#### Alice has n candies, where the ith candy is of type candyType[i]. Alice noticed that she started to gain weight, so she visited a doctor. \n",
    "\n",
    "#### The doctor advised Alice to only eat n / 2 of the candies she has (n is always even). Alice likes her candies very much, and she wants to eat the maximum number of different types of candies while still following the doctor's advice. \n",
    "\n",
    "#### Given the integer array candyType of length n, return the maximum number of different types of candies she can eat if she only eats n / 2 of them.\n",
    "\n",
    "#### Example 1:\n",
    "#### Input: candyType = [1,1,2,2,3,3]\n",
    "#### Output: 3\n",
    "\n",
    "#### Explanation: Alice can only eat 6 / 2 = 3 candies. Since there are only 3 types, she can eat one of each type."
   ]
  },
  {
   "cell_type": "code",
   "execution_count": 3,
   "id": "8c58a88c-f0d9-42b9-a196-814fa59001c8",
   "metadata": {},
   "outputs": [],
   "source": [
    "def maxCandies(candyType):\n",
    "    unique_types = set(candyType)\n",
    "    max_candies = min(len(unique_types), len(candyType) // 2)\n",
    "    return max_candies\n"
   ]
  },
  {
   "cell_type": "code",
   "execution_count": 4,
   "id": "98821969-0da2-4ef0-a2ac-80df124945c7",
   "metadata": {},
   "outputs": [
    {
     "name": "stdout",
     "output_type": "stream",
     "text": [
      "Output : 3\n"
     ]
    }
   ],
   "source": [
    "candyType = [1, 1, 2, 2, 3, 3]\n",
    "print(f\"Output : {maxCandies(candyType)}\")"
   ]
  },
  {
   "cell_type": "markdown",
   "id": "ade4d0d0-df92-401d-a8a2-3e14cd55ef9d",
   "metadata": {},
   "source": [
    "#### Question 3\n",
    "#### We define a harmonious array as an array where the difference between its maximum value\n",
    "#### and its minimum value is exactly 1.\n",
    "\n",
    "#### Given an integer array nums, return the length of its longest harmonious subsequence\n",
    "#### among all its possible subsequences.\n",
    "\n",
    "#### A subsequence of an array is a sequence that can be derived from the array by deleting some or no elements without changing the order of the remaining elements.\n",
    "\n",
    "#### Example 1:\n",
    "#### Input: nums = [1,3,2,2,5,2,3,7]\n",
    "#### Output: 5\n",
    "\n",
    "#### Explanation: The longest harmonious subsequence is [3,2,2,2,3]."
   ]
  },
  {
   "cell_type": "code",
   "execution_count": 5,
   "id": "3a70e520-c755-4c65-8033-339e7cd72b14",
   "metadata": {},
   "outputs": [],
   "source": [
    "from collections import Counter\n",
    "\n",
    "def findLHS(nums):\n",
    "    freq = Counter(nums)\n",
    "    max_length = 0\n",
    "    for num in freq:\n",
    "        if num + 1 in freq:\n",
    "            max_length = max(max_length, freq[num] + freq[num + 1])\n",
    "    return max_length\n"
   ]
  },
  {
   "cell_type": "code",
   "execution_count": 6,
   "id": "9a79f9e2-539f-4a63-9f10-860401df8460",
   "metadata": {},
   "outputs": [
    {
     "name": "stdout",
     "output_type": "stream",
     "text": [
      "Output : 5\n"
     ]
    }
   ],
   "source": [
    "nums = [1, 3, 2, 2, 5, 2, 3, 7]\n",
    "print(f\"Output : {findLHS(nums)}\")"
   ]
  },
  {
   "cell_type": "markdown",
   "id": "9a39837f-f984-43e5-9d7f-7aa531a196e1",
   "metadata": {},
   "source": [
    "#### Question 4\n",
    "#### You have a long flowerbed in which some of the plots are planted, and some are not.\n",
    "#### However, flowers cannot be planted in adjacent plots.\n",
    "#### Given an integer array flowerbed containing 0's and 1's, where 0 means empty and 1 means not empty, and an integer n, return true if n new flowers can be planted in the flowerbed without violating the no-adjacent-flowers rule and false otherwise.\n",
    "\n",
    "#### Example 1:\n",
    "#### Input: flowerbed = [1,0,0,0,1], n = 1\n",
    "#### Output: true"
   ]
  },
  {
   "cell_type": "code",
   "execution_count": 7,
   "id": "af7f256e-1095-4798-9b74-e72ce3ef27e5",
   "metadata": {},
   "outputs": [],
   "source": [
    "def canPlaceFlowers(flowerbed, n):\n",
    "    count = 0\n",
    "    length = len(flowerbed)\n",
    "    for i in range(length):\n",
    "        if flowerbed[i] == 0 and (i == 0 or flowerbed[i - 1] == 0) and (i == length - 1 or flowerbed[i + 1] == 0):\n",
    "            flowerbed[i] = 1\n",
    "            count += 1\n",
    "    return count >= n\n"
   ]
  },
  {
   "cell_type": "code",
   "execution_count": 8,
   "id": "15b53c47-51f5-4a99-a271-a0ed16ec86f7",
   "metadata": {},
   "outputs": [
    {
     "name": "stdout",
     "output_type": "stream",
     "text": [
      "Output : True\n"
     ]
    }
   ],
   "source": [
    "flowerbed = [1, 0, 0, 0, 1]\n",
    "n = 1\n",
    "print(f\"Output : {canPlaceFlowers(flowerbed, n)}\")"
   ]
  },
  {
   "cell_type": "markdown",
   "id": "96b435c8-86d0-456c-8a2f-1c2595382a87",
   "metadata": {},
   "source": [
    "#### Question 5\n",
    "#### Given an integer array nums, find three numbers whose product is maximum and return the maximum product.\n",
    "\n",
    "#### Example 1:\n",
    "#### Input: nums = [1,2,3]\n",
    "#### Output: 6"
   ]
  },
  {
   "cell_type": "code",
   "execution_count": 9,
   "id": "32f5d65e-f3c1-4af0-816f-34974254279f",
   "metadata": {},
   "outputs": [],
   "source": [
    "def maximumProduct(nums):\n",
    "    nums.sort()\n",
    "    max_product = nums[-1] * nums[-2] * nums[-3]\n",
    "    min_product = nums[0] * nums[1] * nums[-1]\n",
    "    return max(max_product, min_product)"
   ]
  },
  {
   "cell_type": "code",
   "execution_count": 10,
   "id": "e32a3c40-a08e-4b42-9b1b-c8aa83dc5827",
   "metadata": {},
   "outputs": [
    {
     "name": "stdout",
     "output_type": "stream",
     "text": [
      "Output : 6\n"
     ]
    }
   ],
   "source": [
    "nums = [1, 2, 3]\n",
    "print(f\"Output : {maximumProduct(nums)}\")"
   ]
  },
  {
   "cell_type": "markdown",
   "id": "1655d60e-5f11-4cd9-a2fc-e348d8fb823d",
   "metadata": {},
   "source": [
    "#### Question 6\n",
    "#### Given an array of integers nums which is sorted in ascending order, and an integer target,\n",
    "#### write a function to search target in nums. If target exists, then return its index. Otherwise,\n",
    "#### return -1.\n",
    "\n",
    "#### You must write an algorithm with O(log n) runtime complexity.\n",
    "\n",
    "#### Input: nums = [-1,0,3,5,9,12], target = 9\n",
    "#### Output: 4\n",
    "\n",
    "#### Explanation: 9 exists in nums and its index is 4"
   ]
  },
  {
   "cell_type": "code",
   "execution_count": 11,
   "id": "ae34ce07-9e84-4188-9579-f679d5a83d96",
   "metadata": {},
   "outputs": [],
   "source": [
    "def search(nums, target):\n",
    "    left = 0\n",
    "    right = len(nums) - 1\n",
    "    while left <= right:\n",
    "        mid = (left + right) // 2\n",
    "        if nums[mid] == target:\n",
    "            return mid\n",
    "        elif nums[mid] > target:\n",
    "            right = mid - 1\n",
    "        else:\n",
    "            left = mid + 1\n",
    "    return -1"
   ]
  },
  {
   "cell_type": "code",
   "execution_count": 12,
   "id": "05c1f073-feea-4958-88f7-94ec23954809",
   "metadata": {},
   "outputs": [
    {
     "name": "stdout",
     "output_type": "stream",
     "text": [
      "Output : 4\n"
     ]
    }
   ],
   "source": [
    "nums = [-1, 0, 3, 5, 9, 12]\n",
    "target = 9\n",
    "print(f\"Output : {search(nums, target)}\")"
   ]
  },
  {
   "cell_type": "markdown",
   "id": "5b673d15-5c06-4f5a-ad75-865c12526313",
   "metadata": {},
   "source": [
    "#### Question 7\n",
    "#### An array is monotonic if it is either monotone increasing or monotone decreasing.\n",
    "\n",
    "#### An array nums is monotone increasing if for all i <= j, nums[i] <= nums[j]. An array nums is\n",
    "#### monotone decreasing if for all i <= j, nums[i] >= nums[j].\n",
    "\n",
    "#### Given an integer array nums, return true if the given array is monotonic, or false otherwise.\n",
    "\n",
    "#### Example 1:\n",
    "#### Input: nums = [1,2,2,3]\n",
    "#### Output: true"
   ]
  },
  {
   "cell_type": "code",
   "execution_count": 13,
   "id": "baf13cd3-4224-4767-9fe3-1939f8204a3b",
   "metadata": {},
   "outputs": [],
   "source": [
    "def isMonotonic(nums):\n",
    "    increasing = True\n",
    "    decreasing = True\n",
    "    for i in range(1, len(nums)):\n",
    "        if nums[i] < nums[i - 1]:\n",
    "            increasing = False\n",
    "        if nums[i] > nums[i - 1]:\n",
    "            decreasing = False\n",
    "    return increasing or decreasing"
   ]
  },
  {
   "cell_type": "code",
   "execution_count": 14,
   "id": "d40ed15b-4d82-4ed5-8447-f3dfe48cc3ad",
   "metadata": {},
   "outputs": [
    {
     "name": "stdout",
     "output_type": "stream",
     "text": [
      "Output : True\n"
     ]
    }
   ],
   "source": [
    "nums = [1, 2, 2, 3]\n",
    "print(f\"Output : {isMonotonic(nums)}\")"
   ]
  },
  {
   "cell_type": "markdown",
   "id": "5877a3f8-a36f-4c25-bb57-5d19766b67b9",
   "metadata": {},
   "source": [
    "#### Question 8\n",
    "#### You are given an integer array nums and an integer k.\n",
    "\n",
    "#### In one operation, you can choose any index i where 0 <= i < nums.length and change nums[i] to nums[i] + x where x is an integer from the range [-k, k]. You can apply this operation at most once for each index i.\n",
    "\n",
    "#### The score of nums is the difference between the maximum and minimum elements in nums.\n",
    "\n",
    "#### Return the minimum score of nums after applying the mentioned operation at most once for each index in it.\n",
    "\n",
    "#### Example 1:\n",
    "#### Input: nums = [1], k = 0\n",
    "#### Output: 0\n",
    "\n",
    "#### Explanation: The score is max(nums) - min(nums) = 1 - 1 = 0."
   ]
  },
  {
   "cell_type": "code",
   "execution_count": 15,
   "id": "396c9813-48b1-4756-a8ff-9c53797851a2",
   "metadata": {},
   "outputs": [],
   "source": [
    "def minimumScore(nums, k):\n",
    "    min_val = min(nums)\n",
    "    max_val = max(nums)\n",
    "    if max_val - min_val <= 2 * k:\n",
    "        return 0\n",
    "    min_score1 = min_val + k\n",
    "    max_score1 = max_val - k\n",
    "    min_score2 = max_val - min_val\n",
    "    return min(min_score1, min_score2)\n"
   ]
  },
  {
   "cell_type": "code",
   "execution_count": 16,
   "id": "97bbcca3-8096-4f7e-b20c-ac8aadf7b5e0",
   "metadata": {},
   "outputs": [
    {
     "name": "stdout",
     "output_type": "stream",
     "text": [
      "Output : 0\n"
     ]
    }
   ],
   "source": [
    "nums = [1]\n",
    "k = 0\n",
    "print(f\"Output : {minimumScore(nums, k)}\") "
   ]
  }
 ],
 "metadata": {
  "kernelspec": {
   "display_name": "Python 3 (ipykernel)",
   "language": "python",
   "name": "python3"
  },
  "language_info": {
   "codemirror_mode": {
    "name": "ipython",
    "version": 3
   },
   "file_extension": ".py",
   "mimetype": "text/x-python",
   "name": "python",
   "nbconvert_exporter": "python",
   "pygments_lexer": "ipython3",
   "version": "3.10.6"
  }
 },
 "nbformat": 4,
 "nbformat_minor": 5
}
