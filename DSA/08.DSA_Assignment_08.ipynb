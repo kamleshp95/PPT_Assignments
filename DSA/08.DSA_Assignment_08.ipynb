{
 "cells": [
  {
   "attachments": {},
   "cell_type": "markdown",
   "metadata": {},
   "source": []
  },
  {
   "attachments": {},
   "cell_type": "markdown",
   "metadata": {},
   "source": [
    "# Assignment 8 - Strings"
   ]
  },
  {
   "attachments": {},
   "cell_type": "markdown",
   "metadata": {},
   "source": [
    "#### Question 1\n",
    "\n",
    "#### Given two strings s1 and s2, return *the lowest **ASCII** sum of deleted characters to make two strings equal*.\n",
    "\n",
    "#### Example 1:\n",
    "\n",
    "#### Input: s1 = \"sea\", s2 = \"eat\"\n",
    "\n",
    "#### Output: 231\n",
    "\n",
    "#### Explanation: Deleting \"s\" from \"sea\" adds the ASCII value of \"s\" (115) to the sum.\n",
    "\n",
    "#### Deleting \"t\" from \"eat\" adds 116 to the sum.\n",
    "\n",
    "#### At the end, both strings are equal, and 115 + 116 = 231 is the minimum sum possible to achieve this.\n"
   ]
  },
  {
   "cell_type": "code",
   "execution_count": 1,
   "metadata": {},
   "outputs": [],
   "source": [
    "def minimumDeleteSum(s1, s2):\n",
    "    m, n = len(s1), len(s2)\n",
    "    dp = [[0] * (n + 1) for _ in range(m + 1)]\n",
    "\n",
    "    for i in range(m):\n",
    "        for j in range(n):\n",
    "            if s1[i] == s2[j]:\n",
    "                dp[i + 1][j + 1] = dp[i][j] + ord(s1[i])\n",
    "            else:\n",
    "                dp[i + 1][j + 1] = max(dp[i + 1][j], dp[i][j + 1])\n",
    "\n",
    "    sum_deleted = sum(ord(c) for c in s1) + sum(ord(c) for c in s2) - 2 * dp[m][n]\n",
    "    return sum_deleted"
   ]
  },
  {
   "cell_type": "code",
   "execution_count": 2,
   "metadata": {},
   "outputs": [
    {
     "name": "stdout",
     "output_type": "stream",
     "text": [
      "Output : 231\n"
     ]
    }
   ],
   "source": [
    "s1 = \"sea\"\n",
    "s2 = \"eat\"\n",
    "print(f\"Output : {minimumDeleteSum(s1, s2)}\") "
   ]
  },
  {
   "attachments": {},
   "cell_type": "markdown",
   "metadata": {},
   "source": [
    "#### Question 2\n",
    "\n",
    "#### Given a string s containing only three types of characters: '(', ')' and '*', return true *if* s *is **valid***.\n",
    "\n",
    "#### The following rules define a **valid** string:\n",
    "\n",
    "#### - Any left parenthesis '(' must have a corresponding right parenthesis ')'.\n",
    "#### - Any right parenthesis ')' must have a corresponding left parenthesis '('.\n",
    "#### - Left parenthesis '(' must go before the corresponding right parenthesis ')'.\n",
    "#### - '*' could be treated as a single right parenthesis ')' or a single left parenthesis '(' or an empty string \"\".\n",
    "\n",
    "#### Example 1:**\n",
    "\n",
    "#### Input: s = \"()\"\n",
    "\n",
    "#### Output:\n",
    "\n",
    "#### true\n"
   ]
  },
  {
   "cell_type": "code",
   "execution_count": 3,
   "metadata": {},
   "outputs": [],
   "source": [
    "def is_valid(s):\n",
    "    stack = []\n",
    "\n",
    "    for char in s:\n",
    "        if char == '(' or char == '*':\n",
    "            stack.append(char)\n",
    "        elif char == ')':\n",
    "            if stack and stack[-1] == '(':\n",
    "                stack.pop()\n",
    "            elif stack and stack[-1] == '*':\n",
    "                stack.pop()\n",
    "            else:\n",
    "                return False\n",
    "\n",
    "    while stack:\n",
    "        if stack.pop() == '(':\n",
    "            return False\n",
    "\n",
    "    return True"
   ]
  },
  {
   "cell_type": "code",
   "execution_count": 4,
   "metadata": {},
   "outputs": [
    {
     "name": "stdout",
     "output_type": "stream",
     "text": [
      "Output : True\n"
     ]
    }
   ],
   "source": [
    "s = \"()\"\n",
    "print(f\"Output : {is_valid(s)}\") "
   ]
  },
  {
   "attachments": {},
   "cell_type": "markdown",
   "metadata": {},
   "source": [
    "#### Question 3\n",
    "#### Given two strings word1 and word2, return the minimum number of steps* required to make* word1 and word2 the same.\n",
    "#### In one step, you can delete exactly one character in either string.\n",
    "\n",
    "#### Example 1:\n",
    "\n",
    "#### Input: word1 = \"sea\", word2 = \"eat\"\n",
    "\n",
    "#### Output: 2\n",
    "\n",
    "#### Explanation: You need one step to make \"sea\" to \"ea\" and another step to make \"eat\" to \"ea\"."
   ]
  },
  {
   "cell_type": "code",
   "execution_count": 5,
   "metadata": {},
   "outputs": [],
   "source": [
    "def min_steps_to_same(word1, word2):\n",
    "    m, n = len(word1), len(word2)\n",
    "    dp = [[0] * (n + 1) for _ in range(m + 1)]\n",
    "\n",
    "    for i in range(m):\n",
    "        for j in range(n):\n",
    "            if word1[i] == word2[j]:\n",
    "                dp[i + 1][j + 1] = dp[i][j] + 1\n",
    "            else:\n",
    "                dp[i + 1][j + 1] = max(dp[i + 1][j], dp[i][j + 1])\n",
    "\n",
    "    lcs_length = dp[m][n]\n",
    "    min_steps = m + n - 2 * lcs_length\n",
    "\n",
    "    return min_steps"
   ]
  },
  {
   "cell_type": "code",
   "execution_count": 6,
   "metadata": {},
   "outputs": [
    {
     "name": "stdout",
     "output_type": "stream",
     "text": [
      "Output : 2\n"
     ]
    }
   ],
   "source": [
    "word1 = \"sea\"\n",
    "word2 = \"eat\"\n",
    "print(f\"Output : {min_steps_to_same(word1, word2)}\")"
   ]
  },
  {
   "attachments": {},
   "cell_type": "markdown",
   "metadata": {},
   "source": [
    "#### Question 4\n",
    "#### You need to construct a binary tree from a string consisting of parenthesis and integers.\n",
    "#### The whole input represents a binary tree. It contains an integer followed by zero, one or two pairs of parenthesis. The integer represents the root's value and a pair of parenthesis contains a child binary tree with the same structure.\n",
    "#### You always start to construct the left child node of the parent first if it exists.\n",
    "![Screenshot_2023-05-29_005303.png](https://file.notion.so/f/s/bdbea2d1-34a4-4c4b-a450-ea6db7410c43/Screenshot_2023-05-29_010548.png?id=1b3741fb-5b89-45a9-98bd-4c1e9ecac1f2&table=block&spaceId=6fae2e0f-dedc-48e9-bc59-af2654c78209&expirationTimestamp=1686240773025&signature=KrRvxQI8oGHXPR-MYGOwexgpSoeVhy4buf6I1yuwC-M&downloadName=Screenshot+2023-05-29+010548.png)\n",
    "#### Input: s = \"4(2(3)(1))(6(5))\"\n",
    "\n",
    "#### Output: [4,2,6,3,1,5]"
   ]
  },
  {
   "cell_type": "code",
   "execution_count": 7,
   "metadata": {},
   "outputs": [
    {
     "name": "stdout",
     "output_type": "stream",
     "text": [
      "4 2 3 1 6 5 "
     ]
    }
   ],
   "source": [
    "class newNode:\n",
    "\tdef __init__(self, data):\n",
    "\t\tself.data = data\n",
    "\t\tself.left = self.right = None\n",
    "\n",
    "# This function is here just to test\n",
    "\n",
    "def preOrder(node):\n",
    "\tif (node == None):\n",
    "\t\treturn\n",
    "\tprint(node.data, end=' ')\n",
    "\tpreOrder(node.left)\n",
    "\tpreOrder(node.right)\n",
    "\n",
    "# function to return the index of\n",
    "# close parenthesis\n",
    "\n",
    "def findIndex(Str, si, ei):\n",
    "\tif (si > ei):\n",
    "\t\treturn -1\n",
    "\n",
    "\t# Inbuilt stack\n",
    "\ts = []\n",
    "\tfor i in range(si, ei + 1):\n",
    "\n",
    "\t\t# if open parenthesis, push it\n",
    "\t\tif (Str[i] == '('):\n",
    "\t\t\ts.append(Str[i])\n",
    "\n",
    "\t\t# if close parenthesis\n",
    "\t\telif (Str[i] == ')'):\n",
    "\t\t\tif (s[-1] == '('):\n",
    "\t\t\t\ts.pop(-1)\n",
    "\n",
    "\t\t\t\t# if stack is empty, this is\n",
    "\t\t\t\t# the required index\n",
    "\t\t\t\tif len(s) == 0:\n",
    "\t\t\t\t\treturn i\n",
    "\t# if not found return -1\n",
    "\treturn -1\n",
    "\n",
    "# function to conStruct tree from String\n",
    "\n",
    "def treeFromString(Str, si, ei):\n",
    "\n",
    "\t# Base case\n",
    "\tif (si > ei):\n",
    "\t\treturn None\n",
    "\n",
    "\t# new root\n",
    "\troot = newNode(ord(Str[si]) - ord('0'))\n",
    "\tindex = -1\n",
    "\n",
    "\t# if next char is '(' find the\n",
    "\t# index of its complement ')'\n",
    "\tif (si + 1 <= ei and Str[si + 1] == '('):\n",
    "\t\tindex = findIndex(Str, si + 1, ei)\n",
    "\n",
    "\t# if index found\n",
    "\tif (index != -1):\n",
    "\n",
    "\t\t# call for left subtree\n",
    "\t\troot.left = treeFromString(Str, si + 2,\n",
    "\t\t\t\t\t\t\t\tindex - 1)\n",
    "\n",
    "\t\t# call for right subtree\n",
    "\t\troot.right = treeFromString(Str, index + 2,\n",
    "\t\t\t\t\t\t\t\t\tei - 1)\n",
    "\treturn root\n",
    "\n",
    "# Driver Code\n",
    "if __name__ == '__main__':\n",
    "\tStr = \"4(2(3)(1))(6(5))\"\n",
    "\troot = treeFromString(Str, 0, len(Str) - 1)\n",
    "\tpreOrder(root)\n",
    "\n",
    "# This code is contributed by pranchalK\n"
   ]
  },
  {
   "attachments": {},
   "cell_type": "markdown",
   "metadata": {},
   "source": [
    "#### Question 5\n",
    "\n",
    "#### Given an array of characters chars, compress it using the following algorithm:\n",
    "\n",
    "#### Begin with an empty string s. For each group of **consecutive repeating characters** in chars:\n",
    "\n",
    "#### - If the group's length is 1, append the character to s.\n",
    "#### - Otherwise, append the character followed by the group's length.\n",
    "\n",
    "#### The compressed string s **should not be returned separately**, but instead, be stored **in the input character array chars**. Note that group lengths that are 10 or longer will be split into multiple characters in chars.\n",
    "\n",
    "#### After you are done **modifying the input array,** return *the new length of the array*.\n",
    "\n",
    "#### You must write an algorithm that uses only constant extra space.\n",
    "\n",
    "#### Example 1:\n",
    "\n",
    "#### Input: chars = [\"a\",\"a\",\"b\",\"b\",\"c\",\"c\",\"c\"]\n",
    "\n",
    "#### Output: Return 6, and the first 6 characters of the input array should be: [\"a\",\"2\",\"b\",\"2\",\"c\",\"3\"]\n",
    "\n",
    "#### Explanation:\n",
    "\n",
    "#### The groups are \"aa\", \"bb\", and \"ccc\". This compresses to \"a2b2c3\".\n"
   ]
  },
  {
   "cell_type": "code",
   "execution_count": 8,
   "metadata": {},
   "outputs": [
    {
     "name": "stdout",
     "output_type": "stream",
     "text": [
      "Output : 6\n",
      "Output : ['a', '2', 'b', '2', 'c', '3']\n"
     ]
    }
   ],
   "source": [
    "def compress(chars):\n",
    "    n = len(chars)\n",
    "    write = 0  # pointer for updating the compressed characters\n",
    "    count = 1  # count of consecutive repeating characters\n",
    "\n",
    "    for i in range(1, n + 1):\n",
    "        if i < n and chars[i] == chars[i - 1]:\n",
    "            count += 1\n",
    "        else:\n",
    "            chars[write] = chars[i - 1]  # update the compressed character\n",
    "\n",
    "            if count > 1:\n",
    "                count_str = str(count)\n",
    "                for j in range(len(count_str)):\n",
    "                    chars[write + 1 + j] = count_str[j]\n",
    "                write += len(count_str) + 1\n",
    "\n",
    "            else:\n",
    "                write += 1\n",
    "\n",
    "            count = 1\n",
    "\n",
    "    return write\n",
    "\n",
    "# Test the function with the given example\n",
    "chars = [\"a\", \"a\", \"b\", \"b\", \"c\", \"c\", \"c\"]\n",
    "new_length = compress(chars)\n",
    "compressed_chars = chars[:new_length]\n",
    "print(f\"Output : {new_length}\")\n",
    "print(f\"Output : {compressed_chars}\") "
   ]
  },
  {
   "attachments": {},
   "cell_type": "markdown",
   "metadata": {},
   "source": [
    "#### Question 6\n",
    "\n",
    "#### Given two strings s and p, return *an array of all the start indices of* p's anagrams in s. You may return the answer in **any order**.\n",
    "\n",
    "#### An **Anagram** is a word or phrase formed by rearranging the letters of a different word or phrase, typically using all the original letters exactly once.\n",
    "\n",
    "#### Example 1:\n",
    "\n",
    "#### Input: s = \"cbaebabacd\", p = \"abc\"\n",
    "\n",
    "#### Output: [0,6]\n",
    "\n",
    "#### Explanation:\n",
    "\n",
    "#### The substring with start index = 0 is \"cba\", which is an anagram of \"abc\".\n",
    "\n",
    "#### The substring with start index = 6 is \"bac\", which is an anagram of \"abc\".\n"
   ]
  },
  {
   "cell_type": "code",
   "execution_count": 9,
   "metadata": {},
   "outputs": [
    {
     "name": "stdout",
     "output_type": "stream",
     "text": [
      "Output : [0, 6]\n"
     ]
    }
   ],
   "source": [
    "from collections import Counter\n",
    "\n",
    "def find_anagrams(s, p):\n",
    "    result = []\n",
    "    p_count = Counter(p)\n",
    "    s_count = Counter(s[:len(p)-1])\n",
    "\n",
    "    for i in range(len(p)-1, len(s)):\n",
    "        s_count[s[i]] += 1\n",
    "        if s_count == p_count:\n",
    "            result.append(i-len(p)+1)\n",
    "        s_count[s[i-len(p)+1]] -= 1\n",
    "        if s_count[s[i-len(p)+1]] == 0:\n",
    "            del s_count[s[i-len(p)+1]]\n",
    "\n",
    "    return result\n",
    "\n",
    "# Example usage\n",
    "s = \"cbaebabacd\"\n",
    "p = \"abc\"\n",
    "print(f\"Output : {find_anagrams(s, p)}\")\n"
   ]
  },
  {
   "attachments": {},
   "cell_type": "markdown",
   "metadata": {},
   "source": [
    "#### Question 7\n",
    "\n",
    "#### Given an encoded string, return its decoded string.\n",
    "\n",
    "#### The encoding rule is: k[encoded_string], where the encoded_string inside the square brackets is being repeated exactly k times.Note that k is guaranteed to be a positive integer.\n",
    "\n",
    "#### You may assume that the input string is always valid; there are no extra white spaces, square brackets are well-formed, etc. #### Furthermore, you may assume that the original data does not contain any digits and that digits are only for those repeat numbers, k. For example, there will not be input like 3a or 2[4].\n",
    "\n",
    "#### The test cases are generated so that the length of the output will never exceed 105.\n",
    "\n",
    "#### Example 1:\n",
    "\n",
    "#### Input: s = \"3[a]2[bc]\"\n",
    "\n",
    "#### Output: \"aaabcbc\""
   ]
  },
  {
   "cell_type": "code",
   "execution_count": 10,
   "metadata": {},
   "outputs": [
    {
     "name": "stdout",
     "output_type": "stream",
     "text": [
      "Output : aaabcbc\n"
     ]
    }
   ],
   "source": [
    "def decode_string(s):\n",
    "    stack = []\n",
    "    curr_str = \"\"\n",
    "    curr_num = 0\n",
    "\n",
    "    for char in s:\n",
    "        if char.isdigit():\n",
    "            curr_num = curr_num * 10 + int(char)\n",
    "        elif char == \"[\":\n",
    "            stack.append(curr_str)\n",
    "            stack.append(curr_num)\n",
    "            curr_str = \"\"\n",
    "            curr_num = 0\n",
    "        elif char == \"]\":\n",
    "            num = stack.pop()\n",
    "            prev_str = stack.pop()\n",
    "            curr_str = prev_str + num * curr_str\n",
    "        else:\n",
    "            curr_str += char\n",
    "\n",
    "    return curr_str\n",
    "\n",
    "# Example usage\n",
    "s = \"3[a]2[bc]\"\n",
    "print(f\"Output : {decode_string(s)}\")\n"
   ]
  }
 ],
 "metadata": {
  "kernelspec": {
   "display_name": "Python 3",
   "language": "python",
   "name": "python3"
  },
  "language_info": {
   "codemirror_mode": {
    "name": "ipython",
    "version": 3
   },
   "file_extension": ".py",
   "mimetype": "text/x-python",
   "name": "python",
   "nbconvert_exporter": "python",
   "pygments_lexer": "ipython3",
   "version": "3.9.6"
  },
  "orig_nbformat": 4
 },
 "nbformat": 4,
 "nbformat_minor": 2
}
