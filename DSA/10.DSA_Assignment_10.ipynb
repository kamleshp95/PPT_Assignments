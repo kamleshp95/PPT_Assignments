{
 "cells": [
  {
   "attachments": {},
   "cell_type": "markdown",
   "id": "3c6d8568",
   "metadata": {},
   "source": [
    "# Assignment 10 - Recursion"
   ]
  },
  {
   "attachments": {},
   "cell_type": "markdown",
   "id": "3350e5d1",
   "metadata": {},
   "source": [
    "#### **Question 1**\n",
    "\n",
    "#### Given an integer `n`, return *`true` if it is a power of three. Otherwise, return `false`*.\n",
    "\n",
    "#### An integer `n` is a power of three, if there exists an integer `x` such that `n == 3x`.\n",
    "\n",
    "#### **Example 1:**\n",
    "\n",
    "```\n",
    "Input: n = 27\n",
    "Output: true\n",
    "Explanation: 27 = 33\n",
    "```\n",
    "#### **Example 2:**\n",
    "\n",
    "```\n",
    "Input: n = 0\n",
    "Output: false\n",
    "Explanation: There is no x where 3x = 0.\n",
    "```\n",
    "#### **Example 3:**\n",
    "\n",
    "```\n",
    "Input: n = -1\n",
    "Output: false\n",
    "Explanation: There is no x where 3x = (-1).\n",
    "```"
   ]
  },
  {
   "cell_type": "code",
   "execution_count": 1,
   "id": "0c9be156",
   "metadata": {},
   "outputs": [
    {
     "name": "stdout",
     "output_type": "stream",
     "text": [
      "Output : True\n",
      "Output : False\n",
      "Output : False\n"
     ]
    }
   ],
   "source": [
    "import math\n",
    "\n",
    "def is_power_of_three(n):\n",
    "    if n <= 0:\n",
    "        return False\n",
    "    \n",
    "    log_val = math.log(n, 3)\n",
    "    return log_val == int(log_val)\n",
    "print(f\"Output : {is_power_of_three(27)}\")  \n",
    "print(f\"Output : {is_power_of_three(0)}\")   \n",
    "print(f\"Output : {is_power_of_three(-1)}\")  "
   ]
  },
  {
   "attachments": {},
   "cell_type": "markdown",
   "id": "6a4cbf56",
   "metadata": {},
   "source": [
    "#### **Question 2**\n",
    "\n",
    "#### You have a list `arr` of all integers in the range `[1, n]` sorted in a strictly increasing order. Apply the following algorithm on `arr`:\n",
    "\n",
    "- Starting from left to right, remove the first number and every other number afterward until you reach the end of the list.\n",
    "- Repeat the previous step again, but this time from right to left, remove the rightmost number and every other number from the remaining numbers.\n",
    "- Keep repeating the steps again, alternating left to right and right to left, until a single number remains.\n",
    "\n",
    "#### Given the integer `n`, return *the last number that remains in* `arr`.\n",
    "\n",
    "#### **Example 1:**\n",
    "\n",
    "```\n",
    "Input: n = 9\n",
    "Output: 6\n",
    "Explanation:\n",
    "arr = [1, 2,3, 4,5, 6,7, 8,9]\n",
    "arr = [2,4, 6,8]\n",
    "arr = [2, 6]\n",
    "arr = [6]\n",
    "```\n",
    "\n",
    "#### **Example 2:**\n",
    "```\n",
    "Input: n = 1\n",
    "Output: 1\n",
    "```"
   ]
  },
  {
   "cell_type": "code",
   "execution_count": 2,
   "id": "c34352ae",
   "metadata": {},
   "outputs": [
    {
     "name": "stdout",
     "output_type": "stream",
     "text": [
      "Output : 6\n",
      "Output : 1\n"
     ]
    }
   ],
   "source": [
    "def last_remaining(n):\n",
    "    arr = list(range(1, n + 1))\n",
    "    left_to_right = True\n",
    "\n",
    "    while len(arr) > 1:\n",
    "        if left_to_right:\n",
    "            arr = arr[1::2]\n",
    "        else:\n",
    "            arr = arr[-2::-2][::-1]\n",
    "        left_to_right = not left_to_right\n",
    "\n",
    "    return arr[0]\n",
    "print(f\"Output : {last_remaining(9)}\") \n",
    "print(f\"Output : {last_remaining(1)}\")  "
   ]
  },
  {
   "attachments": {},
   "cell_type": "markdown",
   "id": "148e211d",
   "metadata": {},
   "source": [
    "#### **Question 3**\n",
    "\n",
    "#### Given a set represented as a string, write a recursive code to print all subsets of it. The subsets can be printed in any order.\n",
    "\n",
    "#### **Example 1:**\n",
    "\n",
    "#### Input :  set = “abc”\n",
    "\n",
    "#### Output : { “”, “a”, “b”, “c”, “ab”, “ac”, “bc”, “abc”}\n",
    "\n",
    "#### **Example 2:**\n",
    "\n",
    "#### Input : set = “abcd”\n",
    "\n",
    "#### Output : { “”, “a” ,”ab” ,”abc” ,”abcd”, “abd” ,”ac” ,”acd”, “ad” ,”b”, “bc” ,”bcd” ,”bd” ,”c” ,”cd” ,”d” }\n"
   ]
  },
  {
   "cell_type": "code",
   "execution_count": 3,
   "id": "2a188f23",
   "metadata": {},
   "outputs": [
    {
     "name": "stdout",
     "output_type": "stream",
     "text": [
      "Output : ['', 'a', 'ab', 'abc', 'ac', 'b', 'bc', 'c']\n",
      "Output : ['', 'a', 'ab', 'abc', 'abcd', 'abd', 'ac', 'acd', 'ad', 'b', 'bc', 'bcd', 'bd', 'c', 'cd', 'd']\n"
     ]
    }
   ],
   "source": [
    "def subsets(s):\n",
    "    def backtrack(start, subset):\n",
    "        result.append(subset)\n",
    "        for i in range(start, len(s)):\n",
    "            backtrack(i + 1, subset + s[i])\n",
    "\n",
    "    result = []\n",
    "    backtrack(0, '')\n",
    "    return result\n",
    "\n",
    "# Test the function with the given examples\n",
    "print(f\"Output : {subsets('abc')}\")  \n",
    "print(f\"Output : {subsets('abcd')}\")  "
   ]
  },
  {
   "attachments": {},
   "cell_type": "markdown",
   "id": "8c80b399",
   "metadata": {},
   "source": [
    "#### **Question 4**\n",
    "\n",
    "#### Given a string calculate length of the string using recursion.\n",
    "\n",
    "#### **Examples:**\n",
    "\n",
    "```\n",
    "Input : str = \"abcd\"\n",
    "Output :4\n",
    "\n",
    "Input : str = \"GEEKSFORGEEKS\"\n",
    "Output :13\n",
    "```"
   ]
  },
  {
   "cell_type": "code",
   "execution_count": 4,
   "id": "a40f2541",
   "metadata": {},
   "outputs": [
    {
     "name": "stdout",
     "output_type": "stream",
     "text": [
      "Output : 4\n",
      "Output : 13\n"
     ]
    }
   ],
   "source": [
    "def calculateLength(str):\n",
    "    if str == \"\":\n",
    "        return 0\n",
    "    else:\n",
    "        return 1 + calculateLength(str[1:])\n",
    "\n",
    "# Test the function\n",
    "print(f\"Output : {calculateLength('abcd')}\")  # Output: 4\n",
    "print(f\"Output : {calculateLength('GEEKSFORGEEKS')}\")  # Output: 13"
   ]
  },
  {
   "attachments": {},
   "cell_type": "markdown",
   "id": "8e6209c8",
   "metadata": {},
   "source": [
    "#### **Question 5**\n",
    "\n",
    "#### We are given a string S, we need to find count of all contiguous substrings starting and ending with same character.\n",
    "\n",
    "#### **Examples :**\n",
    "\n",
    "```\n",
    "Input  : S = \"abcab\"\n",
    "Output : 7\n",
    "There are 15 substrings of \"abcab\"\n",
    "a, ab, abc, abca, abcab, b, bc, bca\n",
    "bcab, c, ca, cab, a, ab, b\n",
    "Out of the above substrings, there\n",
    "are 7 substrings : a, abca, b, bcab,\n",
    "c, a and b.\n",
    "\n",
    "Input  : S = \"aba\"\n",
    "Output : 4\n",
    "The substrings are a, b, a and aba\n",
    "```"
   ]
  },
  {
   "cell_type": "code",
   "execution_count": 5,
   "id": "717cdc09",
   "metadata": {},
   "outputs": [
    {
     "name": "stdout",
     "output_type": "stream",
     "text": [
      "Output : 7\n",
      "Output : 4\n"
     ]
    }
   ],
   "source": [
    "def countContiguousSubstrings(S):\n",
    "    count = 0\n",
    "    for i in range(len(S)):\n",
    "        count += 1\n",
    "        for j in range(i + 1, len(S)):\n",
    "            if S[j] == S[i]:\n",
    "                count += 1\n",
    "    return count\n",
    "\n",
    "# Test the function\n",
    "print(f\"Output : {countContiguousSubstrings('abcab')}\")  # Output: 7\n",
    "print(f\"Output : {countContiguousSubstrings('aba')}\")  # Output: 4\n"
   ]
  },
  {
   "attachments": {},
   "cell_type": "markdown",
   "id": "227375ce",
   "metadata": {},
   "source": [
    "#### **Question 6**\n",
    "\n",
    "#### The [tower of Hanoi](https://en.wikipedia.org/wiki/Tower_of_Hanoi) is a famous puzzle where we have three rods and **N** disks. The objective of the puzzle is to move the entire stack to another rod. You are given the number of discs **N**. Initially, these discs are in the rod 1. You need to print all the steps of discs movement so that all the discs reach the 3rd rod. Also, you need to find the total moves.**Note:** The discs are arranged such that the **top disc is numbered 1** and the **bottom-most disc is numbered N**. Also, all the discs have **different sizes** and a bigger disc **cannot** be put on the top of a smaller disc. Refer the provided link to get a better clarity about the puzzle.\n",
    "\n",
    "#### **Example 1:**\n",
    "\n",
    "```\n",
    "Input:\n",
    "N = 2\n",
    "Output:\n",
    "move disk 1 from rod 1 to rod 2\n",
    "move disk 2 from rod 1 to rod 3\n",
    "move disk 1 from rod 2 to rod 3\n",
    "3\n",
    "Explanation:For N=2 , steps will be\n",
    "as follows in the example and total\n",
    "3 steps will be taken.\n",
    "```\n",
    "\n",
    "#### **Example 2:**\n",
    "\n",
    "```\n",
    "Input:\n",
    "N = 3\n",
    "Output:\n",
    "move disk 1 from rod 1 to rod 3\n",
    "move disk 2 from rod 1 to rod 2\n",
    "move disk 1 from rod 3 to rod 2\n",
    "move disk 3 from rod 1 to rod 3\n",
    "move disk 1 from rod 2 to rod 1\n",
    "move disk 2 from rod 2 to rod 3\n",
    "move disk 1 from rod 1 to rod 3\n",
    "7\n",
    "Explanation:For N=3 , steps will be\n",
    "as follows in the example and total\n",
    "7 steps will be taken.\n",
    "```"
   ]
  },
  {
   "cell_type": "code",
   "execution_count": 6,
   "id": "b0600d82",
   "metadata": {},
   "outputs": [
    {
     "name": "stdout",
     "output_type": "stream",
     "text": [
      "move disk 1 from rod 1 to rod 2\n",
      "move disk 2 from rod 1 to rod 3\n",
      "move disk 1 from rod 2 to rod 3\n",
      "Total moves: 3\n",
      "move disk 1 from rod 1 to rod 3\n",
      "move disk 2 from rod 1 to rod 2\n",
      "move disk 1 from rod 3 to rod 2\n",
      "move disk 3 from rod 1 to rod 3\n",
      "move disk 1 from rod 2 to rod 1\n",
      "move disk 2 from rod 2 to rod 3\n",
      "move disk 1 from rod 1 to rod 3\n",
      "Total moves: 7\n"
     ]
    }
   ],
   "source": [
    "def towerOfHanoi(N, source, destination, auxiliary):\n",
    "    if N == 1:\n",
    "        print(\"move disk 1 from rod\", source, \"to rod\", destination)\n",
    "        return 1\n",
    "    \n",
    "    moves = towerOfHanoi(N - 1, source, auxiliary, destination)\n",
    "    print(\"move disk\", N, \"from rod\", source, \"to rod\", destination)\n",
    "    moves += 1\n",
    "    moves += towerOfHanoi(N - 1, auxiliary, destination, source)\n",
    "    \n",
    "    return moves\n",
    "\n",
    "# Test the function\n",
    "N = 2\n",
    "total_moves = towerOfHanoi(N, 1, 3, 2)\n",
    "print(\"Total moves:\", total_moves)\n",
    "\n",
    "N = 3\n",
    "total_moves = towerOfHanoi(N, 1, 3, 2)\n",
    "print(\"Total moves:\", total_moves)\n"
   ]
  },
  {
   "attachments": {},
   "cell_type": "markdown",
   "id": "65afa0f1",
   "metadata": {},
   "source": [
    "#### **Question 7**\n",
    "\n",
    "#### Given a string **str**, the task is to print all the permutations of **str**. A **permutation** is an arrangement of all or part of a set of objects, with regard to the order of the arrangement. For instance, the words ‘bat’ and ‘tab’ represents two distinct permutation (or arrangements) of a similar three letter word.\n",
    "\n",
    "#### **Examples:**\n",
    "\n",
    "```\n",
    "Input: \n",
    "str = “cd”\n",
    "Output: cd dc\n",
    "\n",
    "Input: \n",
    "str = “abb”\n",
    "Output:abb abb bab bba bab bba\n",
    "```"
   ]
  },
  {
   "cell_type": "code",
   "execution_count": 7,
   "id": "bda97878",
   "metadata": {},
   "outputs": [
    {
     "name": "stdout",
     "output_type": "stream",
     "text": [
      "cd\n",
      "dc\n",
      "abb\n",
      "abb\n",
      "bab\n",
      "bba\n",
      "bba\n",
      "bab\n"
     ]
    }
   ],
   "source": [
    "def permute(str, l, r):\n",
    "    if l == r:\n",
    "        print(''.join(str))\n",
    "    else:\n",
    "        for i in range(l, r+1):\n",
    "            str[l], str[i] = str[i], str[l]\n",
    "            permute(str, l+1, r)\n",
    "            str[l], str[i] = str[i], str[l]  # Undo the swap\n",
    "\n",
    "# Test the function\n",
    "str = \"cd\"\n",
    "permute(list(str), 0, len(str)-1)\n",
    "\n",
    "str = \"abb\"\n",
    "permute(list(str), 0, len(str)-1)"
   ]
  },
  {
   "attachments": {},
   "cell_type": "markdown",
   "id": "3eeb614b",
   "metadata": {},
   "source": [
    "### **Question 8**\n",
    "\n",
    "### Given a string, count total number of consonants in it. A consonant is an English alphabet character that is not vowel (a, e, i, o and u). Examples of constants are b, c, d, f, and g.\n",
    "\n",
    "### **Examples :**\n",
    "\n",
    "```\n",
    "Input : abc de\n",
    "Output : 3\n",
    "There are three consonants b, c and d.\n",
    "\n",
    "Input : geeksforgeeks portal\n",
    "Output : 12\n",
    "```"
   ]
  },
  {
   "cell_type": "code",
   "execution_count": 8,
   "id": "415dfddc",
   "metadata": {},
   "outputs": [
    {
     "name": "stdout",
     "output_type": "stream",
     "text": [
      "Output : 3\n",
      "Output : 12\n"
     ]
    }
   ],
   "source": [
    "def count_consonants(s):\n",
    "    vowels = ['a', 'e', 'i', 'o', 'u']\n",
    "    count = 0\n",
    "    for ch in s.lower():\n",
    "        if ch.isalpha() and ch not in vowels:\n",
    "            count += 1\n",
    "    return count\n",
    "\n",
    "# Test the function\n",
    "s = \"abc de\"\n",
    "print(f\"Output : {count_consonants(s)}\")  \n",
    "\n",
    "s = \"geeksforgeeks portal\"\n",
    "print(f\"Output : {count_consonants(s)}\") \n"
   ]
  }
 ],
 "metadata": {
  "kernelspec": {
   "display_name": "Python 3 (ipykernel)",
   "language": "python",
   "name": "python3"
  },
  "language_info": {
   "codemirror_mode": {
    "name": "ipython",
    "version": 3
   },
   "file_extension": ".py",
   "mimetype": "text/x-python",
   "name": "python",
   "nbconvert_exporter": "python",
   "pygments_lexer": "ipython3",
   "version": "3.9.6"
  }
 },
 "nbformat": 4,
 "nbformat_minor": 5
}
