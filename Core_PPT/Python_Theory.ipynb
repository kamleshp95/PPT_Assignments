{
  "cells": [
    {
      "cell_type": "markdown",
      "metadata": {
        "id": "sD3onJVbdm6-"
      },
      "source": [
        "# 1. Why python is known as the interpreted language ?"
      ]
    },
    {
      "cell_type": "markdown",
      "metadata": {
        "id": "-Vl8wRzkdq9d"
      },
      "source": [
        "**Ans.**\n",
        "\n",
        "In python when we executes a line codes first compiler reads the code and compliles the it to check the structure and syntax then converts the code to machine understandable language(byte code). And  python interpreter executes the code line by line. So python is called as interpreted language.\n",
        "\n",
        "Python has functional programming features, object oriented programming features, scripting language features, and modular programming features. Do we also call it as all rounder programming language."
      ]
    },
    {
      "cell_type": "markdown",
      "metadata": {
        "id": "7n-DT_nBdmAV"
      },
      "source": [
        "# 2. Why python is slow as compared to other languages. (C, C++) ?"
      ]
    },
    {
      "cell_type": "markdown",
      "metadata": {
        "id": "CAHPQP0PiH8a"
      },
      "source": [
        "**Ans.**\n",
        "\n",
        "Python is slow because of it's interpreted nature. Python language's effectiveness decreases because of\n",
        "- Low code delivery speed and low performance -> it takes a lot of instructions to interprete and execute a machine level instruction\n",
        "- PVM handles all the low level activities like : memory management, object destruction, calling garbage collector, security etc."
      ]
    },
    {
      "cell_type": "markdown",
      "metadata": {
        "id": "gWcRLqWwiH5r"
      },
      "source": [
        "# 3. How python assigns memory to a variable ?\n",
        "\n"
      ]
    },
    {
      "cell_type": "markdown",
      "metadata": {
        "id": "rhy4HvohiH2j"
      },
      "source": [
        "**Ans.**\n",
        "\n",
        "In python assigning memory to a variable is called stack memory allocation. Because allocation of memory happens after the function call to stack.\n",
        "\n",
        "At the time of allocation the memory size is known to the compiler when there is a function call happens, the variable gets memory allocated on the stack."
      ]
    },
    {
      "cell_type": "markdown",
      "metadata": {
        "id": "Xc0cGz39iHzn"
      },
      "source": [
        "# 4. What is the use case of id functions?"
      ]
    },
    {
      "cell_type": "markdown",
      "metadata": {
        "id": "S_hYlRIFiHww"
      },
      "source": [
        "**Ans.**\n",
        "\n",
        "In python everything is treated as class and when we creates an object of the class the referance holds the adress of the object. By-default id function prints the address of each object.\n",
        "\n",
        "Two objects with different references have different ids.\n",
        "\n",
        "eg: list, tuple\n",
        "\n",
        "But two references pointing towards same object have same address.\n",
        "\n",
        "eg:\n",
        " string"
      ]
    },
    {
      "cell_type": "code",
      "execution_count": 1,
      "metadata": {
        "colab": {
          "base_uri": "https://localhost:8080/"
        },
        "id": "qIWMCXIHsXg-",
        "outputId": "9d17645a-1463-4f26-dfb8-195265e011b3"
      },
      "outputs": [
        {
          "name": "stdout",
          "output_type": "stream",
          "text": [
            "4371648304\n",
            "4371648304\n",
            "4372630320\n"
          ]
        }
      ],
      "source": [
        "s1 = 'abc'\n",
        "s2 = 'abc'\n",
        "\n",
        "print(id(s1))    # same content\n",
        "print(id(s2))    # same content\n",
        "\n",
        "s3 = 'def'\n",
        "\n",
        "print(id(s3))    # different content"
      ]
    },
    {
      "cell_type": "code",
      "execution_count": 2,
      "metadata": {
        "colab": {
          "base_uri": "https://localhost:8080/"
        },
        "id": "9wfgvFZmtJNG",
        "outputId": "da526b09-2603-4137-8198-2efb1c0db2db"
      },
      "outputs": [
        {
          "name": "stdout",
          "output_type": "stream",
          "text": [
            "4417517632\n",
            "4417594624\n"
          ]
        }
      ],
      "source": [
        "l1 = [1,2,3]\n",
        "l2 = [1,2,3]\n",
        "\n",
        "print(id(l1))    # different object\n",
        "print(id(l2))    # different object"
      ]
    },
    {
      "cell_type": "code",
      "execution_count": 3,
      "metadata": {
        "colab": {
          "base_uri": "https://localhost:8080/"
        },
        "id": "2tU7s2FGtbtt",
        "outputId": "333a683f-691b-4fc1-9413-17e7a85dd6a2"
      },
      "outputs": [
        {
          "name": "stdout",
          "output_type": "stream",
          "text": [
            "4417340992\n",
            "4417526464\n"
          ]
        }
      ],
      "source": [
        "t1 = (1,2,3)\n",
        "t2 = (1,2,3)\n",
        "\n",
        "print(id(t1))    # different object\n",
        "print(id(t2))    # different object"
      ]
    },
    {
      "cell_type": "markdown",
      "metadata": {
        "id": "Rps6jDS_iHuG"
      },
      "source": [
        "# 5. What are reserved words in python?"
      ]
    },
    {
      "cell_type": "markdown",
      "metadata": {
        "id": "AXBHiLlyiHrP"
      },
      "source": [
        "In python there are 33 reserved words. And using reserved words we can not create a variable.\n",
        "\n",
        "keywords:\n",
        "\n",
        "False, None, True  -> reserved literals\n",
        "\n",
        "and, or,not, is\n",
        "\n",
        "if, elif, else\n",
        "\n",
        "while, for, break, continue, return, in, yield\n",
        "\n",
        "try, except, finally, raise, assert\n",
        "\n",
        "import, from, as, class, def, pass\n",
        "\n",
        "global,  nonlocal, lambda,  del, with\n",
        "\n",
        "- Except the reserved literals all other literals are in lower case\n",
        "\n",
        "- int, float, str, bool, complex, list, tuple, dict are not reserved key words."
      ]
    },
    {
      "cell_type": "markdown",
      "metadata": {
        "id": "1DAwY4R8iHoW"
      },
      "source": [
        "# 6. REPL ?"
      ]
    },
    {
      "cell_type": "markdown",
      "metadata": {
        "id": "vvoDn0pciHlg"
      },
      "source": [
        "**Ans.**\n",
        "\n",
        "REPL stands for Read Evaluation Print Loop. It is a computer environment where we can run code and immediately see the results."
      ]
    },
    {
      "cell_type": "markdown",
      "metadata": {
        "id": "u1-3c1g2iHiu"
      },
      "source": [
        "# 7. Is python good for fast prototyping? If yes then how?"
      ]
    },
    {
      "cell_type": "markdown",
      "metadata": {
        "id": "epAo7_jkiHf_"
      },
      "source": [
        "**Ans.**\n",
        "\n",
        "Python is a great language for prototyping. In python dynamic analysis and static analysis are easy. Because python is dynamically typed programming language. And compiles faster than other languages but runs slower."
      ]
    },
    {
      "cell_type": "markdown",
      "metadata": {
        "id": "2_7lsTZKiHdI"
      },
      "source": [
        "# 8. Identifiers?"
      ]
    },
    {
      "cell_type": "markdown",
      "metadata": {
        "id": "ysf8s9SCiHaT"
      },
      "source": [
        "**Ans.**\n",
        "\n",
        "Identifiers are a name in python program which can be used for identification purpose. It can be a variable, method name or class name.\n",
        "\n",
        "eg:\n",
        "\n",
        "a = 10\n",
        "\n",
        "- In python we have identifiers a-z, A-Z, 0-9, _."
      ]
    },
    {
      "cell_type": "markdown",
      "metadata": {
        "id": "Bhc42L6_iHXj"
      },
      "source": [
        "# 9. Why is python called a dynamically typed language?"
      ]
    },
    {
      "cell_type": "markdown",
      "metadata": {
        "id": "7HpKlgpriHUr"
      },
      "source": [
        "**Ans.**\n",
        "\n",
        "In python we don't have to declare the type explicitly. Based on our input value the type will be considered by PVM."
      ]
    },
    {
      "cell_type": "code",
      "execution_count": 4,
      "metadata": {
        "colab": {
          "base_uri": "https://localhost:8080/"
        },
        "id": "g_jC8SAR_s9y",
        "outputId": "f9f67f83-28ae-49c8-b9cd-9e2e84b9fffe"
      },
      "outputs": [
        {
          "name": "stdout",
          "output_type": "stream",
          "text": [
            "<class 'int'>\n"
          ]
        }
      ],
      "source": [
        "a = 10\n",
        "print(type(a))"
      ]
    },
    {
      "cell_type": "markdown",
      "metadata": {
        "id": "phtGqF5JiHSv"
      },
      "source": [
        "# 10. What is the default memory size allocated to int, float, str, and other data types?"
      ]
    },
    {
      "cell_type": "markdown",
      "metadata": {
        "id": "Ioxr1FMGiHO1"
      },
      "source": [
        "**Ans.**\n",
        "\n",
        "The default memory size allocated to the base data types of python is 8 bytes which is sufficient to use."
      ]
    },
    {
      "cell_type": "markdown",
      "metadata": {
        "id": "83gzTh1iiHLz"
      },
      "source": [
        "# 11. What are built-in classes in python?"
      ]
    },
    {
      "cell_type": "markdown",
      "metadata": {
        "id": "gGxG9FEFiHI8"
      },
      "source": [
        "**Ans.**\n",
        "\n",
        "We know everything in python is treated as class. So the basic data types are treated as default class:\n",
        "\n",
        "list, dict, set, str, int, float, and complex classes."
      ]
    },
    {
      "cell_type": "markdown",
      "metadata": {
        "id": "UhQt7S3PiHFz"
      },
      "source": [
        "# 12. What are bitwise operators in python?"
      ]
    },
    {
      "cell_type": "markdown",
      "metadata": {
        "id": "nmZ7yARxiHC3"
      },
      "source": [
        "**Ans.**\n",
        "\n",
        "We use operator in between two operands.\n",
        "\n",
        "The bitweise operators are:\n",
        "\n",
        "&  - and\n",
        "\n",
        "|  - or\n",
        "\n",
        "^  - xor\n",
        "\n",
        "~  - bitwise complement operator\n",
        "\n",
        " <<  - left shift operator\n",
        "\n",
        ". >>  - right shift operator\n",
        "\n",
        "\n",
        "- These operators can be used only with int value and boolean type"
      ]
    },
    {
      "cell_type": "code",
      "execution_count": 5,
      "metadata": {
        "colab": {
          "base_uri": "https://localhost:8080/"
        },
        "id": "b2BE1_-2Gzyj",
        "outputId": "ba5ac039-d59d-4ba6-fad2-e3908c1b0545"
      },
      "outputs": [
        {
          "name": "stdout",
          "output_type": "stream",
          "text": [
            "10\n"
          ]
        }
      ],
      "source": [
        "print(10 & 11)"
      ]
    },
    {
      "cell_type": "code",
      "execution_count": 6,
      "metadata": {
        "colab": {
          "base_uri": "https://localhost:8080/"
        },
        "id": "UgscE2pxH5Ih",
        "outputId": "91f68e6f-9953-4141-9495-ef805c58cfcb"
      },
      "outputs": [
        {
          "name": "stdout",
          "output_type": "stream",
          "text": [
            "0\n"
          ]
        }
      ],
      "source": [
        "print(10>>11)"
      ]
    },
    {
      "cell_type": "markdown",
      "metadata": {
        "id": "HQR6xan7iHAD"
      },
      "source": [
        "# 13. discuss operator precedence?"
      ]
    },
    {
      "cell_type": "markdown",
      "metadata": {
        "id": "2FtOfH0hiG9W"
      },
      "source": [
        "**Ans.**\n",
        "\n",
        "Operator precedence is the order of execution of operators."
      ]
    },
    {
      "cell_type": "markdown",
      "metadata": {
        "id": "A91cXeCIiG6e"
      },
      "source": [
        "# 14. difference between module package and libary?"
      ]
    },
    {
      "cell_type": "markdown",
      "metadata": {
        "id": "e_wcx_REiG3c"
      },
      "source": [
        "**Ans.**\n",
        "\n",
        "module: the collection of python classes, methods, constructors, functions, and other attributes to a .py file is called as module.\n",
        "\n",
        "package: the folder or directory which contains collection of modules is called package. In python the package must have __init__.py file in it.\n",
        "\n",
        "library: the collection of packages and modules is called library."
      ]
    },
    {
      "cell_type": "markdown",
      "metadata": {
        "id": "cKm_jte6iG01"
      },
      "source": [
        "# 15. What is type linting, linting in python?"
      ]
    },
    {
      "cell_type": "markdown",
      "metadata": {
        "id": "LS3KYUpOiGx9"
      },
      "source": [
        "**Ans.**\n",
        "\n",
        "linting is the technique which is used to identify the errors in the python code.\n",
        "\n",
        "We use MyPy tool."
      ]
    },
    {
      "cell_type": "markdown",
      "metadata": {
        "id": "VTEMDCm_iGvL"
      },
      "source": [
        "\n",
        "# 16. What is PEP8?"
      ]
    },
    {
      "cell_type": "markdown",
      "metadata": {
        "id": "Zj7CHz6qiGsN"
      },
      "source": [
        "**Ans.**\n",
        "\n",
        "PEP8 is a python guideline.\n",
        "\n",
        "When you are building an application you need to follow certain rules.\n",
        "\n"
      ]
    },
    {
      "cell_type": "markdown",
      "metadata": {
        "id": "uabc2I78iGpX"
      },
      "source": [
        "# 17. What are inbuilt data structures in python?"
      ]
    },
    {
      "cell_type": "markdown",
      "metadata": {
        "id": "waXc1VRQiGmv"
      },
      "source": [
        "**Ans.**\n",
        "\n",
        "The inbuilt data structures in python are list, tuple, dict and set."
      ]
    },
    {
      "cell_type": "markdown",
      "metadata": {
        "id": "OnNQ_oy_iGj_"
      },
      "source": [
        "# 18. What is the difference between Tuple and list?"
      ]
    },
    {
      "cell_type": "markdown",
      "metadata": {
        "id": "YcQOrTd6iGhj"
      },
      "source": [
        "**Ans.**\n",
        "\n",
        "- 1. List is mutable.\n",
        "- 1. Tuple is immutable.\n",
        "\n",
        "\n",
        "\n",
        "- 2. List is group of comma separated vales represent in square brackets. []\n",
        "- 2. Tuple is group of comma separated values represent in paranthesis. ()\n",
        "\n",
        "\n",
        "\n",
        "- 3. Square brackets are mandatory\n",
        "- 3. Parwanthesis are optional\n",
        "\n",
        "\n",
        "\n",
        "- 4. To store list elements PVM requires more memory.\n",
        "- 4. To store tuple elements PVM requires less memory.\n",
        "\n",
        "\n",
        "\n",
        "- 5. We can access list slower. (performance is low)\n",
        "- 5. Tuple is faster to access. (performance is more)\n",
        "\n",
        "\n",
        "- 6. Comprehension concept is applicable to list.\n",
        "- 6. Comprehension concept is not applicable to tuple\n",
        "\n",
        "\n",
        "- 7. Packing concept is not applicable to list\n",
        "- 7. Packing concept is applicable to tuple.\n",
        "\n",
        "- 8. List object is not hashable object. So we can't use as a key to dictionary.\n",
        "- 8. Tuple object is hashable object. So we can use it as key to dictionary/"
      ]
    },
    {
      "cell_type": "markdown",
      "metadata": {
        "id": "8Pc41NaYiGef"
      },
      "source": [
        "# 19. How is the list different then numpy array or array in c++ ?"
      ]
    },
    {
      "cell_type": "markdown",
      "metadata": {
        "id": "aGr6n_x4iGb2"
      },
      "source": [
        "**Ans.**\n",
        "\n",
        "- 1. List is a built-in function in python.\n",
        "- 1. We need to import Array from numpy package.\n",
        "\n",
        "- 2. List and array both are mutable and store ordered items.\n",
        "\n",
        "- 3. List can store heterogenous elements\n",
        "- 3. Array can store homogenous elements.\n",
        "\n",
        "- 4. List is slower and no memory management.\n",
        "- 4. Array is faster and memory efficient.\n",
        "\n",
        "eg.\n",
        "\n",
        "Store huge amount of data to both array and list. Array will be accessed faster than list."
      ]
    },
    {
      "cell_type": "markdown",
      "metadata": {
        "id": "XAMLNOYhiGY_"
      },
      "source": [
        "# 20. What is the difference between \"is\" and \"==\"?"
      ]
    },
    {
      "cell_type": "markdown",
      "metadata": {
        "id": "qbFTPQWLiGWL"
      },
      "source": [
        "**Ans.**\n",
        "\n",
        "\"is\" operator ment for referance (address of the objects) comparision.\n",
        "\n",
        "\"==\" operator ment for content or values comparision."
      ]
    },
    {
      "cell_type": "code",
      "execution_count": 7,
      "metadata": {
        "colab": {
          "base_uri": "https://localhost:8080/"
        },
        "id": "nGCBToMSFyGs",
        "outputId": "156120e9-22f6-4aad-92fc-757bd6dfb35c"
      },
      "outputs": [
        {
          "name": "stdout",
          "output_type": "stream",
          "text": [
            "False\n"
          ]
        }
      ],
      "source": [
        "print(True == False)"
      ]
    },
    {
      "cell_type": "code",
      "execution_count": 8,
      "metadata": {
        "colab": {
          "base_uri": "https://localhost:8080/"
        },
        "id": "DkQxLy7TF2RU",
        "outputId": "ae815fec-fab4-47d4-a119-6b7ebd0c63ad"
      },
      "outputs": [
        {
          "name": "stdout",
          "output_type": "stream",
          "text": [
            "4370770224\n",
            "4370770224\n",
            "False\n"
          ]
        }
      ],
      "source": [
        "t1 = (1)\n",
        "t2 = (1)\n",
        "print(id(t1))\n",
        "print(id(t2))\n",
        "\n",
        "print(id(t1) is id(t2))"
      ]
    },
    {
      "cell_type": "markdown",
      "metadata": {
        "id": "mz4md2A2iGTf"
      },
      "source": [
        "# 21. What is an assert statement?"
      ]
    },
    {
      "cell_type": "markdown",
      "metadata": {
        "id": "mDFSmOJpiGQo"
      },
      "source": [
        "**Ans.**\n",
        "\n",
        "Assert statement is used to verify the condition. It checks the condition in code is True or not. In case condtion is failed then it raises AssertionError."
      ]
    },
    {
      "cell_type": "code",
      "execution_count": 11,
      "metadata": {
        "colab": {
          "base_uri": "https://localhost:8080/",
          "height": 321
        },
        "id": "MITfYEez4Qub",
        "outputId": "7328ca9a-e40a-4ed0-b715-0843dfe6cba8"
      },
      "outputs": [
        {
          "name": "stdout",
          "output_type": "stream",
          "text": [
            "5.0\n"
          ]
        }
      ],
      "source": [
        "def divide(a, b):\n",
        "    assert b != 0, \"Divisor cannot be zero!\"\n",
        "    return a / b\n",
        "\n",
        "result = divide(10, 2)\n",
        "print(result)  # Output: 5.0\n",
        "\n"
      ]
    },
    {
      "cell_type": "markdown",
      "metadata": {
        "id": "fQvs6WRhiGOE"
      },
      "source": [
        "# 22. What is mutability?"
      ]
    },
    {
      "cell_type": "markdown",
      "metadata": {
        "id": "5Ga4dqImiGLL"
      },
      "source": [
        "**Ans.**\n",
        "\n",
        "Mutable means changable. If after creating an object we are able to change the contents of the object then it is muatble."
      ]
    },
    {
      "cell_type": "code",
      "execution_count": null,
      "metadata": {
        "colab": {
          "base_uri": "https://localhost:8080/"
        },
        "id": "7zsdBNUv5EcJ",
        "outputId": "a863e9d0-3987-470a-c878-98098f5c4de3"
      },
      "outputs": [
        {
          "name": "stdout",
          "output_type": "stream",
          "text": [
            "[1, 2, 3, 4]\n"
          ]
        }
      ],
      "source": [
        "# mutable\n",
        "\n",
        "l = [1,2,3]\n",
        "l.append(4)\n",
        "print(l)"
      ]
    },
    {
      "cell_type": "code",
      "execution_count": null,
      "metadata": {
        "colab": {
          "base_uri": "https://localhost:8080/",
          "height": 200
        },
        "id": "gSZwUdrj5KWE",
        "outputId": "55b9c2b1-112d-4131-abc5-b3ee5b1dad42"
      },
      "outputs": [
        {
          "ename": "AttributeError",
          "evalue": "ignored",
          "output_type": "error",
          "traceback": [
            "\u001b[0;31m---------------------------------------------------------------------------\u001b[0m",
            "\u001b[0;31mAttributeError\u001b[0m                            Traceback (most recent call last)",
            "\u001b[0;32m<ipython-input-20-4f07ec8d4d6c>\u001b[0m in \u001b[0;36m<cell line: 2>\u001b[0;34m()\u001b[0m\n\u001b[1;32m      1\u001b[0m \u001b[0mt\u001b[0m \u001b[0;34m=\u001b[0m \u001b[0;34m(\u001b[0m\u001b[0;36m1\u001b[0m\u001b[0;34m,\u001b[0m\u001b[0;36m2\u001b[0m\u001b[0;34m,\u001b[0m\u001b[0;36m3\u001b[0m\u001b[0;34m)\u001b[0m\u001b[0;34m\u001b[0m\u001b[0;34m\u001b[0m\u001b[0m\n\u001b[0;32m----> 2\u001b[0;31m \u001b[0mt\u001b[0m\u001b[0;34m.\u001b[0m\u001b[0mappend\u001b[0m\u001b[0;34m(\u001b[0m\u001b[0;36m4\u001b[0m\u001b[0;34m)\u001b[0m\u001b[0;34m\u001b[0m\u001b[0;34m\u001b[0m\u001b[0m\n\u001b[0m\u001b[1;32m      3\u001b[0m \u001b[0mprint\u001b[0m\u001b[0;34m(\u001b[0m\u001b[0mt\u001b[0m\u001b[0;34m)\u001b[0m\u001b[0;34m\u001b[0m\u001b[0;34m\u001b[0m\u001b[0m\n",
            "\u001b[0;31mAttributeError\u001b[0m: 'tuple' object has no attribute 'append'"
          ]
        }
      ],
      "source": [
        "# immutable\n",
        "\n",
        "t = (1,2,3)\n",
        "t.append(4)\n",
        "print(t)"
      ]
    },
    {
      "cell_type": "markdown",
      "metadata": {
        "id": "-mARPDsyiGI9"
      },
      "source": [
        "# 23. What is a python generator?"
      ]
    },
    {
      "cell_type": "markdown",
      "metadata": {
        "id": "Bv-s03jViGFt"
      },
      "source": [
        "**Ans.**\n",
        "\n",
        "Python generator is the function where we use yield keyword to generate a sequence of values. Yield ketword in generator used to generate values.\n",
        "\n",
        "Generators never raises memory problem and it can handle huge amount of data.\n",
        "\n",
        "In traditional collection -> Objects will be created at the begining only.\n",
        "\n",
        "In generator case -> Objects won't be created in the begining. Object will be generated and provided on demand."
      ]
    },
    {
      "cell_type": "code",
      "execution_count": null,
      "metadata": {
        "colab": {
          "base_uri": "https://localhost:8080/"
        },
        "id": "k9ufQqZvOW5R",
        "outputId": "78148615-2e67-4216-afa8-0d9c40bf1521"
      },
      "outputs": [
        {
          "name": "stdout",
          "output_type": "stream",
          "text": [
            "<class 'generator'>\n",
            "0\n",
            "1\n",
            "2\n",
            "3\n"
          ]
        }
      ],
      "source": [
        "## comprehension concept is not applicable to tuple. It is only applicable to list.\n",
        "## If we try to apply comprehension object then we are going to get a generator object.\n",
        "\n",
        "g = (x for x in range(10))\n",
        "print(type(g))\n",
        "\n",
        "print(next(g))\n",
        "print(next(g))\n",
        "print(next(g))\n",
        "print(next(g))"
      ]
    },
    {
      "cell_type": "code",
      "execution_count": null,
      "metadata": {
        "colab": {
          "base_uri": "https://localhost:8080/"
        },
        "id": "NQkt9vNXSO2D",
        "outputId": "efce99ad-fbb5-4ee1-ed01-aa38d69ecf52"
      },
      "outputs": [
        {
          "name": "stdout",
          "output_type": "stream",
          "text": [
            "A\n",
            "B\n",
            "C\n"
          ]
        }
      ],
      "source": [
        "def myGen():\n",
        "  yield 'A'\n",
        "  yield 'B'\n",
        "  yield 'C'\n",
        "\n",
        "g = myGen()\n",
        "print(next(g))\n",
        "print(next(g))\n",
        "print(next(g))"
      ]
    },
    {
      "cell_type": "markdown",
      "metadata": {
        "id": "Ij2UxVtaiGCs"
      },
      "source": [
        "# 24. What is the difference between yield and return keyword?"
      ]
    },
    {
      "cell_type": "markdown",
      "metadata": {
        "id": "_KIcb0kF51z7"
      },
      "source": [
        "**Ans.**\n",
        "\n",
        "yield: yield statement produces generator object and return multiple values to the caller with out terminating the program.\n",
        "\n",
        "return: return statement returns a value to the caller from the function and terminates the program."
      ]
    },
    {
      "cell_type": "markdown",
      "metadata": {
        "id": "ZtpHtdir51vB"
      },
      "source": [
        "# 25. What is the zip method?"
      ]
    },
    {
      "cell_type": "markdown",
      "metadata": {
        "id": "Mt7WWsiz51rq"
      },
      "source": [
        "We use zip() method for\n",
        "1. memory utilazation\n",
        "2. transporation of file\n",
        "3. easy to use"
      ]
    },
    {
      "cell_type": "code",
      "execution_count": null,
      "metadata": {
        "id": "vn_yEHJRVXpl"
      },
      "outputs": [],
      "source": [
        "# to creeate zip file\n",
        "\n",
        "from zipfile import *\n",
        "\n",
        "f = ZipFile('files.zip', 'w', ZIP_DEFLATED)\n",
        "f.write('file1.txt')\n",
        "f.write('file2.txt')\n",
        "f.write('file3.txt')\n",
        "f.write('file4.txt')\n",
        "f.close()\n",
        "\n",
        "print('FIles.zi created successfully')"
      ]
    }
  ],
  "metadata": {
    "colab": {
      "provenance": []
    },
    "kernelspec": {
      "display_name": "Python 3",
      "name": "python3"
    },
    "language_info": {
      "codemirror_mode": {
        "name": "ipython",
        "version": 3
      },
      "file_extension": ".py",
      "mimetype": "text/x-python",
      "name": "python",
      "nbconvert_exporter": "python",
      "pygments_lexer": "ipython3",
      "version": "3.9.6"
    }
  },
  "nbformat": 4,
  "nbformat_minor": 0
}
